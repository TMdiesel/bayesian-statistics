{
 "cells": [
  {
   "cell_type": "markdown",
   "metadata": {},
   "source": [
    "## overview"
   ]
  },
  {
   "cell_type": "code",
   "execution_count": 1,
   "metadata": {},
   "outputs": [],
   "source": [
    "# default package\n",
    "import logging\n",
    "import sys \n",
    "import os\n",
    "import pathlib\n",
    "import IPython\n",
    "import random\n",
    "from urllib.request import urlretrieve"
   ]
  },
  {
   "cell_type": "code",
   "execution_count": 2,
   "metadata": {},
   "outputs": [
    {
     "name": "stderr",
     "output_type": "stream",
     "text": [
      "WARNING (theano.tensor.blas): Using NumPy C-API based implementation for BLAS functions.\n"
     ]
    }
   ],
   "source": [
    "# third party package\n",
    "import pandas as pd \n",
    "import numpy as np\n",
    "import matplotlib.pyplot as plt\n",
    "import seaborn\n",
    "from tqdm import tqdm\n",
    "import pymc3 as pm\n",
    "import seaborn as sns\n",
    "import theano.tensor as tt\n",
    "import scipy.stats as stats\n",
    "from scipy.stats.mstats import mquantiles"
   ]
  },
  {
   "cell_type": "code",
   "execution_count": 3,
   "metadata": {},
   "outputs": [],
   "source": [
    "# my package\n",
    "sys.path.append(os.path.join(pathlib.Path().resolve(),\"../\"))"
   ]
  },
  {
   "cell_type": "code",
   "execution_count": 4,
   "metadata": {},
   "outputs": [],
   "source": [
    "# reload settings\n",
    "%load_ext autoreload\n",
    "%autoreload 2"
   ]
  },
  {
   "cell_type": "code",
   "execution_count": 5,
   "metadata": {},
   "outputs": [],
   "source": [
    "# logger\n",
    "logger=logging.getLogger(__name__)\n",
    "logging.basicConfig(level=logging.ERROR)"
   ]
  },
  {
   "cell_type": "code",
   "execution_count": 6,
   "metadata": {},
   "outputs": [],
   "source": [
    "# graph setting\n",
    "sns.set()"
   ]
  },
  {
   "cell_type": "markdown",
   "metadata": {},
   "source": [
    "## model context"
   ]
  },
  {
   "cell_type": "code",
   "execution_count": 7,
   "metadata": {},
   "outputs": [],
   "source": [
    "with pm.Model() as model:\n",
    "    parameter=pm.Exponential(\"poisson_param\",1)\n",
    "    data_generator=pm.Poisson(\"data_generator\",parameter)\n",
    "with model:  # same model\n",
    "    data_plus_one = data_generator + 1"
   ]
  },
  {
   "cell_type": "code",
   "execution_count": 8,
   "metadata": {},
   "outputs": [],
   "source": [
    "with pm.Model() as ab_testing:\n",
    "    p_A = pm.Uniform(\"P(A)\", 0, 1)\n",
    "    p_B = pm.Uniform(\"P(B)\", 0, 1)"
   ]
  },
  {
   "cell_type": "markdown",
   "metadata": {},
   "source": [
    "## pymc3 variable"
   ]
  },
  {
   "cell_type": "code",
   "execution_count": 9,
   "metadata": {},
   "outputs": [],
   "source": [
    "with pm.Model() as model:\n",
    "    lambda_1=pm.Exponential(\"lambda_1\",1)\n",
    "    lambda_2=pm.Exponential(\"lambda_2\",1)\n",
    "    tau=pm.DiscreteUniform(\"tau\",lower=0,upper=10)\n",
    "new_deterministic_variable=lambda_1+lambda_2"
   ]
  },
  {
   "cell_type": "markdown",
   "metadata": {},
   "source": [
    "## theano"
   ]
  },
  {
   "cell_type": "code",
   "execution_count": 10,
   "metadata": {},
   "outputs": [],
   "source": [
    "with pm.Model() as theano_test:\n",
    "    p1 = pm.Uniform(\"p\", 0, 1)\n",
    "    p2 = 1 - p1\n",
    "    p = tt.stack([p1, p2])\n",
    "    \n",
    "    assignment = pm.Categorical(\"assignment\", p)"
   ]
  },
  {
   "cell_type": "markdown",
   "metadata": {},
   "source": [
    "## including observations in the model"
   ]
  },
  {
   "cell_type": "code",
   "execution_count": 11,
   "metadata": {},
   "outputs": [
    {
     "data": {
      "image/png": "[encoded data removed]",
      "text/plain": [
       "<Figure size 432x288 with 1 Axes>"
      ]
     },
     "metadata": {},
     "output_type": "display_data"
    }
   ],
   "source": [
    "samples=lambda_1.random(size=20000)\n",
    "plt.hist(samples,bins=30);"
   ]
  },
  {
   "cell_type": "code",
   "execution_count": 12,
   "metadata": {},
   "outputs": [
    {
     "name": "stdout",
     "output_type": "stream",
     "text": [
      "[10  5]\n"
     ]
    }
   ],
   "source": [
    "data=np.array([10,5])\n",
    "lambda_=10\n",
    "with model:\n",
    "    obs=pm.Poisson(\"obs\",lambda_,observed=data)\n",
    "print(obs.tag.test_value)"
   ]
  },
  {
   "cell_type": "markdown",
   "metadata": {},
   "source": [
    "## modeling approaches"
   ]
  },
  {
   "cell_type": "code",
   "execution_count": 13,
   "metadata": {},
   "outputs": [],
   "source": [
    "tau = np.random.randint(0, 80)\n",
    "alpha = 1./20.\n",
    "lambda_1, lambda_2 = np.random.exponential(scale=1/alpha, size=2)\n",
    "data = np.r_[stats.poisson.rvs(mu=lambda_1, size=tau), stats.poisson.rvs(mu=lambda_2, size = 80 - tau)]"
   ]
  },
  {
   "cell_type": "code",
   "execution_count": 14,
   "metadata": {},
   "outputs": [
    {
     "data": {
      "image/png": "[encoded data removed]",
      "text/plain": [
       "<Figure size 432x288 with 1 Axes>"
      ]
     },
     "metadata": {},
     "output_type": "display_data"
    }
   ],
   "source": [
    "plt.bar(np.arange(80),data);"
   ]
  },
  {
   "cell_type": "markdown",
   "metadata": {},
   "source": [
    "## A/B test"
   ]
  },
  {
   "cell_type": "code",
   "execution_count": 15,
   "metadata": {},
   "outputs": [],
   "source": [
    "with pm.Model() as model:\n",
    "    p=pm.Uniform(\"p\",lower=0,upper=1)"
   ]
  },
  {
   "cell_type": "code",
   "execution_count": 16,
   "metadata": {},
   "outputs": [],
   "source": [
    "occurrences=stats.bernoulli.rvs(0.05,size=1500)"
   ]
  },
  {
   "cell_type": "code",
   "execution_count": 17,
   "metadata": {},
   "outputs": [
    {
     "name": "stderr",
     "output_type": "stream",
     "text": [
      "Multiprocess sampling (4 chains in 4 jobs)\n",
      "INFO:pymc3:Multiprocess sampling (4 chains in 4 jobs)\n",
      "Metropolis: [p]\n",
      "INFO:pymc3:Metropolis: [p]\n"
     ]
    },
    {
     "data": {
      "text/html": [
       "\n",
       "    <div>\n",
       "        <style>\n",
       "            /* Turns off some styling */\n",
       "            progress {\n",
       "                /* gets rid of default border in Firefox and Opera. */\n",
       "                border: none;\n",
       "                /* Needs to be in here for Safari polyfill so background images work as expected. */\n",
       "                background-size: auto;\n",
       "            }\n",
       "            .progress-bar-interrupted, .progress-bar-interrupted::-webkit-progress-bar {\n",
       "                background: #F44336;\n",
       "            }\n",
       "        </style>\n",
       "      <progress value='76000' class='' max='76000' style='width:300px; height:20px; vertical-align: middle;'></progress>\n",
       "      100.00% [76000/76000 00:12<00:00 Sampling 4 chains, 0 divergences]\n",
       "    </div>\n",
       "    "
      ],
      "text/plain": [
       "<IPython.core.display.HTML object>"
      ]
     },
     "metadata": {},
     "output_type": "display_data"
    },
    {
     "name": "stderr",
     "output_type": "stream",
     "text": [
      "Sampling 4 chains for 1_000 tune and 18_000 draw iterations (4_000 + 72_000 draws total) took 13 seconds.\n",
      "INFO:pymc3:Sampling 4 chains for 1_000 tune and 18_000 draw iterations (4_000 + 72_000 draws total) took 13 seconds.\n",
      "The number of effective samples is smaller than 25% for some parameters.\n",
      "INFO:pymc3:The number of effective samples is smaller than 25% for some parameters.\n"
     ]
    }
   ],
   "source": [
    "with model:\n",
    "    obs=pm.Bernoulli(\"obs\",p,observed=occurrences)\n",
    "    step=pm.Metropolis()\n",
    "    trace=pm.sample(18000,step=step,return_inferencedata=False)"
   ]
  },
  {
   "cell_type": "code",
   "execution_count": 18,
   "metadata": {},
   "outputs": [
    {
     "data": {
      "image/svg+xml": [
       "<?xml version=\"1.0\" encoding=\"UTF-8\" standalone=\"no\"?>\n",
       "<!DOCTYPE svg PUBLIC \"-//W3C//DTD SVG 1.1//EN\"\n",
       " \"http://www.w3.org/Graphics/SVG/1.1/DTD/svg11.dtd\">\n",
       "<!-- Generated by graphviz version 2.40.1 (20161225.0304)\n",
       " -->\n",
       "<!-- Title: %3 Pages: 1 -->\n",
       "<svg width=\"156pt\" height=\"233pt\"\n",
       " viewBox=\"0.00 0.00 156.00 232.91\" xmlns=\"http://www.w3.org/2000/svg\" xmlns:xlink=\"http://www.w3.org/1999/xlink\">\n",
       "<g id=\"graph0\" class=\"graph\" transform=\"scale(1 1) rotate(0) translate(4 228.9066)\">\n",
       "<title>%3</title>\n",
       "<polygon fill=\"#ffffff\" stroke=\"transparent\" points=\"-4,4 -4,-228.9066 152,-228.9066 152,4 -4,4\"/>\n",
       "<g id=\"clust1\" class=\"cluster\">\n",
       "<title>cluster1,500</title>\n",
       "<path fill=\"none\" stroke=\"#000000\" d=\"M20,-8C20,-8 128,-8 128,-8 134,-8 140,-14 140,-20 140,-20 140,-109.9533 140,-109.9533 140,-115.9533 134,-121.9533 128,-121.9533 128,-121.9533 20,-121.9533 20,-121.9533 14,-121.9533 8,-115.9533 8,-109.9533 8,-109.9533 8,-20 8,-20 8,-14 14,-8 20,-8\"/>\n",
       "<text text-anchor=\"middle\" x=\"111.5\" y=\"-15.8\" font-family=\"Times,serif\" font-size=\"14.00\" fill=\"#000000\">1,500</text>\n",
       "</g>\n",
       "<!-- p -->\n",
       "<g id=\"node1\" class=\"node\">\n",
       "<title>p</title>\n",
       "<ellipse fill=\"none\" stroke=\"#000000\" cx=\"74\" cy=\"-187.43\" rx=\"53.9813\" ry=\"37.4533\"/>\n",
       "<text text-anchor=\"middle\" x=\"74\" y=\"-198.73\" font-family=\"Times,serif\" font-size=\"14.00\" fill=\"#000000\">p</text>\n",
       "<text text-anchor=\"middle\" x=\"74\" y=\"-183.73\" font-family=\"Times,serif\" font-size=\"14.00\" fill=\"#000000\">~</text>\n",
       "<text text-anchor=\"middle\" x=\"74\" y=\"-168.73\" font-family=\"Times,serif\" font-size=\"14.00\" fill=\"#000000\">Uniform</text>\n",
       "</g>\n",
       "<!-- obs -->\n",
       "<g id=\"node2\" class=\"node\">\n",
       "<title>obs</title>\n",
       "<ellipse fill=\"#d3d3d3\" stroke=\"#000000\" cx=\"74\" cy=\"-76.4767\" rx=\"57.9655\" ry=\"37.4533\"/>\n",
       "<text text-anchor=\"middle\" x=\"74\" y=\"-87.7767\" font-family=\"Times,serif\" font-size=\"14.00\" fill=\"#000000\">obs</text>\n",
       "<text text-anchor=\"middle\" x=\"74\" y=\"-72.7767\" font-family=\"Times,serif\" font-size=\"14.00\" fill=\"#000000\">~</text>\n",
       "<text text-anchor=\"middle\" x=\"74\" y=\"-57.7767\" font-family=\"Times,serif\" font-size=\"14.00\" fill=\"#000000\">Bernoulli</text>\n",
       "</g>\n",
       "<!-- p&#45;&gt;obs -->\n",
       "<g id=\"edge1\" class=\"edge\">\n",
       "<title>p&#45;&gt;obs</title>\n",
       "<path fill=\"none\" stroke=\"#000000\" d=\"M74,-149.8662C74,-141.6423 74,-132.8301 74,-124.267\"/>\n",
       "<polygon fill=\"#000000\" stroke=\"#000000\" points=\"77.5001,-124.0017 74,-114.0017 70.5001,-124.0017 77.5001,-124.0017\"/>\n",
       "</g>\n",
       "</g>\n",
       "</svg>\n"
      ],
      "text/plain": [
       "<graphviz.dot.Digraph at 0x7f0a6e731850>"
      ]
     },
     "execution_count": 18,
     "metadata": {},
     "output_type": "execute_result"
    }
   ],
   "source": [
    "pm.model_to_graphviz(model)"
   ]
  },
  {
   "cell_type": "code",
   "execution_count": 19,
   "metadata": {},
   "outputs": [
    {
     "data": {
      "image/png": "[encoded data removed]",
      "text/plain": [
       "<Figure size 432x288 with 1 Axes>"
      ]
     },
     "metadata": {},
     "output_type": "display_data"
    }
   ],
   "source": [
    "plt.hist(trace[\"p\"]);"
   ]
  },
  {
   "cell_type": "markdown",
   "metadata": {},
   "source": [
    "## カンニング"
   ]
  },
  {
   "cell_type": "code",
   "execution_count": 20,
   "metadata": {},
   "outputs": [],
   "source": [
    "N = 100\n",
    "with pm.Model() as model:\n",
    "    p = pm.Uniform(\"freq_cheating\", 0, 1)"
   ]
  },
  {
   "cell_type": "code",
   "execution_count": 21,
   "metadata": {},
   "outputs": [],
   "source": [
    "with model:\n",
    "    true_answers = pm.Bernoulli(\"truths\", p, shape=N, \n",
    "                                testval=np.random.binomial(1, 0.5, N))"
   ]
  },
  {
   "cell_type": "code",
   "execution_count": 22,
   "metadata": {},
   "outputs": [],
   "source": [
    "with model:\n",
    "    first_coin_flips = pm.Bernoulli(\"first_flips\", 0.5, shape=N, \n",
    "                                    testval=np.random.binomial(1, 0.5, N))"
   ]
  },
  {
   "cell_type": "code",
   "execution_count": 23,
   "metadata": {},
   "outputs": [],
   "source": [
    "with model:\n",
    "    second_coin_flips = pm.Bernoulli(\"second_flips\", 0.5, shape=N, \n",
    "                                     testval=np.random.binomial(1, 0.5, N))"
   ]
  },
  {
   "cell_type": "code",
   "execution_count": 24,
   "metadata": {},
   "outputs": [],
   "source": [
    "with model:\n",
    "    val = first_coin_flips*true_answers + (1 - first_coin_flips)*second_coin_flips\n",
    "    observed_proportion = pm.Deterministic(\"observed_proportion\", tt.sum(val)/float(N))"
   ]
  },
  {
   "cell_type": "code",
   "execution_count": 25,
   "metadata": {},
   "outputs": [],
   "source": [
    "X = 35\n",
    "\n",
    "with model:\n",
    "    observations = pm.Binomial(\"obs\", N, observed_proportion, observed=X)"
   ]
  },
  {
   "cell_type": "code",
   "execution_count": 26,
   "metadata": {},
   "outputs": [
    {
     "name": "stderr",
     "output_type": "stream",
     "text": [
      "Multiprocess sampling (4 chains in 4 jobs)\n",
      "INFO:pymc3:Multiprocess sampling (4 chains in 4 jobs)\n",
      "CompoundStep\n",
      "INFO:pymc3:CompoundStep\n",
      ">Metropolis: [freq_cheating]\n",
      "INFO:pymc3:>Metropolis: [freq_cheating]\n",
      ">BinaryGibbsMetropolis: [truths, first_flips, second_flips]\n",
      "INFO:pymc3:>BinaryGibbsMetropolis: [truths, first_flips, second_flips]\n"
     ]
    },
    {
     "data": {
      "text/html": [
       "\n",
       "    <div>\n",
       "        <style>\n",
       "            /* Turns off some styling */\n",
       "            progress {\n",
       "                /* gets rid of default border in Firefox and Opera. */\n",
       "                border: none;\n",
       "                /* Needs to be in here for Safari polyfill so background images work as expected. */\n",
       "                background-size: auto;\n",
       "            }\n",
       "            .progress-bar-interrupted, .progress-bar-interrupted::-webkit-progress-bar {\n",
       "                background: #F44336;\n",
       "            }\n",
       "        </style>\n",
       "      <progress value='44000' class='' max='44000' style='width:300px; height:20px; vertical-align: middle;'></progress>\n",
       "      100.00% [44000/44000 04:43<00:00 Sampling 4 chains, 0 divergences]\n",
       "    </div>\n",
       "    "
      ],
      "text/plain": [
       "<IPython.core.display.HTML object>"
      ]
     },
     "metadata": {},
     "output_type": "display_data"
    },
    {
     "name": "stderr",
     "output_type": "stream",
     "text": [
      "Sampling 4 chains for 1_000 tune and 10_000 draw iterations (4_000 + 40_000 draws total) took 284 seconds.\n",
      "INFO:pymc3:Sampling 4 chains for 1_000 tune and 10_000 draw iterations (4_000 + 40_000 draws total) took 284 seconds.\n",
      "The number of effective samples is smaller than 10% for some parameters.\n",
      "WARNING:pymc3:The number of effective samples is smaller than 10% for some parameters.\n"
     ]
    }
   ],
   "source": [
    "with model:\n",
    "    step = pm.Metropolis(vars=[p])\n",
    "    trace = pm.sample(10000, step=step,return_inferencedata=False)"
   ]
  },
  {
   "cell_type": "code",
   "execution_count": 27,
   "metadata": {},
   "outputs": [
    {
     "data": {
      "image/svg+xml": [
       "<?xml version=\"1.0\" encoding=\"UTF-8\" standalone=\"no\"?>\n",
       "<!DOCTYPE svg PUBLIC \"-//W3C//DTD SVG 1.1//EN\"\n",
       " \"http://www.w3.org/Graphics/SVG/1.1/DTD/svg11.dtd\">\n",
       "<!-- Generated by graphviz version 2.40.1 (20161225.0304)\n",
       " -->\n",
       "<!-- Title: %3 Pages: 1 -->\n",
       "<svg width=\"460pt\" height=\"397pt\"\n",
       " viewBox=\"0.00 0.00 460.00 396.86\" xmlns=\"http://www.w3.org/2000/svg\" xmlns:xlink=\"http://www.w3.org/1999/xlink\">\n",
       "<g id=\"graph0\" class=\"graph\" transform=\"scale(1 1) rotate(0) translate(4 392.86)\">\n",
       "<title>%3</title>\n",
       "<polygon fill=\"#ffffff\" stroke=\"transparent\" points=\"-4,4 -4,-392.86 456,-392.86 456,4 -4,4\"/>\n",
       "<g id=\"clust1\" class=\"cluster\">\n",
       "<title>cluster100</title>\n",
       "<path fill=\"none\" stroke=\"#000000\" d=\"M20,-171.9533C20,-171.9533 432,-171.9533 432,-171.9533 438,-171.9533 444,-177.9533 444,-183.9533 444,-183.9533 444,-273.9066 444,-273.9066 444,-279.9066 438,-285.9066 432,-285.9066 432,-285.9066 20,-285.9066 20,-285.9066 14,-285.9066 8,-279.9066 8,-273.9066 8,-273.9066 8,-183.9533 8,-183.9533 8,-177.9533 14,-171.9533 20,-171.9533\"/>\n",
       "<text text-anchor=\"middle\" x=\"422\" y=\"-179.7533\" font-family=\"Times,serif\" font-size=\"14.00\" fill=\"#000000\">100</text>\n",
       "</g>\n",
       "<!-- freq_cheating -->\n",
       "<g id=\"node1\" class=\"node\">\n",
       "<title>freq_cheating</title>\n",
       "<ellipse fill=\"none\" stroke=\"#000000\" cx=\"240\" cy=\"-351.3833\" rx=\"82.0488\" ry=\"37.4533\"/>\n",
       "<text text-anchor=\"middle\" x=\"240\" y=\"-362.6833\" font-family=\"Times,serif\" font-size=\"14.00\" fill=\"#000000\">freq_cheating</text>\n",
       "<text text-anchor=\"middle\" x=\"240\" y=\"-347.6833\" font-family=\"Times,serif\" font-size=\"14.00\" fill=\"#000000\">~</text>\n",
       "<text text-anchor=\"middle\" x=\"240\" y=\"-332.6833\" font-family=\"Times,serif\" font-size=\"14.00\" fill=\"#000000\">Uniform</text>\n",
       "</g>\n",
       "<!-- truths -->\n",
       "<g id=\"node5\" class=\"node\">\n",
       "<title>truths</title>\n",
       "<ellipse fill=\"none\" stroke=\"#000000\" cx=\"240\" cy=\"-240.43\" rx=\"57.9655\" ry=\"37.4533\"/>\n",
       "<text text-anchor=\"middle\" x=\"240\" y=\"-251.73\" font-family=\"Times,serif\" font-size=\"14.00\" fill=\"#000000\">truths</text>\n",
       "<text text-anchor=\"middle\" x=\"240\" y=\"-236.73\" font-family=\"Times,serif\" font-size=\"14.00\" fill=\"#000000\">~</text>\n",
       "<text text-anchor=\"middle\" x=\"240\" y=\"-221.73\" font-family=\"Times,serif\" font-size=\"14.00\" fill=\"#000000\">Bernoulli</text>\n",
       "</g>\n",
       "<!-- freq_cheating&#45;&gt;truths -->\n",
       "<g id=\"edge1\" class=\"edge\">\n",
       "<title>freq_cheating&#45;&gt;truths</title>\n",
       "<path fill=\"none\" stroke=\"#000000\" d=\"M240,-313.8196C240,-305.5956 240,-296.7834 240,-288.2203\"/>\n",
       "<polygon fill=\"#000000\" stroke=\"#000000\" points=\"243.5001,-287.955 240,-277.955 236.5001,-287.9551 243.5001,-287.955\"/>\n",
       "</g>\n",
       "<!-- obs -->\n",
       "<g id=\"node2\" class=\"node\">\n",
       "<title>obs</title>\n",
       "<ellipse fill=\"#d3d3d3\" stroke=\"#000000\" cx=\"240\" cy=\"-37.4767\" rx=\"56.6372\" ry=\"37.4533\"/>\n",
       "<text text-anchor=\"middle\" x=\"240\" y=\"-48.7767\" font-family=\"Times,serif\" font-size=\"14.00\" fill=\"#000000\">obs</text>\n",
       "<text text-anchor=\"middle\" x=\"240\" y=\"-33.7767\" font-family=\"Times,serif\" font-size=\"14.00\" fill=\"#000000\">~</text>\n",
       "<text text-anchor=\"middle\" x=\"240\" y=\"-18.7767\" font-family=\"Times,serif\" font-size=\"14.00\" fill=\"#000000\">Binomial</text>\n",
       "</g>\n",
       "<!-- observed_proportion -->\n",
       "<g id=\"node3\" class=\"node\">\n",
       "<title>observed_proportion</title>\n",
       "<polygon fill=\"none\" stroke=\"#000000\" points=\"322.5,-163.9533 157.5,-163.9533 157.5,-110.9533 322.5,-110.9533 322.5,-163.9533\"/>\n",
       "<text text-anchor=\"middle\" x=\"240\" y=\"-148.7533\" font-family=\"Times,serif\" font-size=\"14.00\" fill=\"#000000\">observed_proportion</text>\n",
       "<text text-anchor=\"middle\" x=\"240\" y=\"-133.7533\" font-family=\"Times,serif\" font-size=\"14.00\" fill=\"#000000\">~</text>\n",
       "<text text-anchor=\"middle\" x=\"240\" y=\"-118.7533\" font-family=\"Times,serif\" font-size=\"14.00\" fill=\"#000000\">Deterministic</text>\n",
       "</g>\n",
       "<!-- observed_proportion&#45;&gt;obs -->\n",
       "<g id=\"edge5\" class=\"edge\">\n",
       "<title>observed_proportion&#45;&gt;obs</title>\n",
       "<path fill=\"none\" stroke=\"#000000\" d=\"M240,-110.9239C240,-103.0239 240,-94.113 240,-85.2925\"/>\n",
       "<polygon fill=\"#000000\" stroke=\"#000000\" points=\"243.5001,-85.0454 240,-75.0454 236.5001,-85.0455 243.5001,-85.0454\"/>\n",
       "</g>\n",
       "<!-- first_flips -->\n",
       "<g id=\"node4\" class=\"node\">\n",
       "<title>first_flips</title>\n",
       "<ellipse fill=\"none\" stroke=\"#000000\" cx=\"376\" cy=\"-240.43\" rx=\"60.2083\" ry=\"37.4533\"/>\n",
       "<text text-anchor=\"middle\" x=\"376\" y=\"-251.73\" font-family=\"Times,serif\" font-size=\"14.00\" fill=\"#000000\">first_flips</text>\n",
       "<text text-anchor=\"middle\" x=\"376\" y=\"-236.73\" font-family=\"Times,serif\" font-size=\"14.00\" fill=\"#000000\">~</text>\n",
       "<text text-anchor=\"middle\" x=\"376\" y=\"-221.73\" font-family=\"Times,serif\" font-size=\"14.00\" fill=\"#000000\">Bernoulli</text>\n",
       "</g>\n",
       "<!-- first_flips&#45;&gt;observed_proportion -->\n",
       "<g id=\"edge2\" class=\"edge\">\n",
       "<title>first_flips&#45;&gt;observed_proportion</title>\n",
       "<path fill=\"none\" stroke=\"#000000\" d=\"M346.9261,-207.5898C335.2472,-195.5099 321.1975,-182.2735 307,-171.9533 305.8094,-171.0879 304.5941,-170.2319 303.3585,-169.3862\"/>\n",
       "<polygon fill=\"#000000\" stroke=\"#000000\" points=\"305.2566,-166.4456 294.9568,-163.9626 301.4601,-172.3267 305.2566,-166.4456\"/>\n",
       "</g>\n",
       "<!-- truths&#45;&gt;observed_proportion -->\n",
       "<g id=\"edge3\" class=\"edge\">\n",
       "<title>truths&#45;&gt;observed_proportion</title>\n",
       "<path fill=\"none\" stroke=\"#000000\" d=\"M240,-202.67C240,-193.4113 240,-183.5138 240,-174.2987\"/>\n",
       "<polygon fill=\"#000000\" stroke=\"#000000\" points=\"243.5001,-174.2551 240,-164.2551 236.5001,-174.2551 243.5001,-174.2551\"/>\n",
       "</g>\n",
       "<!-- second_flips -->\n",
       "<g id=\"node6\" class=\"node\">\n",
       "<title>second_flips</title>\n",
       "<ellipse fill=\"none\" stroke=\"#000000\" cx=\"90\" cy=\"-240.43\" rx=\"74.4932\" ry=\"37.4533\"/>\n",
       "<text text-anchor=\"middle\" x=\"90\" y=\"-251.73\" font-family=\"Times,serif\" font-size=\"14.00\" fill=\"#000000\">second_flips</text>\n",
       "<text text-anchor=\"middle\" x=\"90\" y=\"-236.73\" font-family=\"Times,serif\" font-size=\"14.00\" fill=\"#000000\">~</text>\n",
       "<text text-anchor=\"middle\" x=\"90\" y=\"-221.73\" font-family=\"Times,serif\" font-size=\"14.00\" fill=\"#000000\">Bernoulli</text>\n",
       "</g>\n",
       "<!-- second_flips&#45;&gt;observed_proportion -->\n",
       "<g id=\"edge4\" class=\"edge\">\n",
       "<title>second_flips&#45;&gt;observed_proportion</title>\n",
       "<path fill=\"none\" stroke=\"#000000\" d=\"M126.2872,-207.6338C140.3595,-195.6937 156.9336,-182.5408 173,-171.9533 174.2632,-171.1209 175.5489,-170.2933 176.8526,-169.4718\"/>\n",
       "<polygon fill=\"#000000\" stroke=\"#000000\" points=\"178.9153,-172.315 185.6686,-164.1515 175.2984,-166.3218 178.9153,-172.315\"/>\n",
       "</g>\n",
       "</g>\n",
       "</svg>\n"
      ],
      "text/plain": [
       "<graphviz.dot.Digraph at 0x7f0a61769ca0>"
      ]
     },
     "execution_count": 27,
     "metadata": {},
     "output_type": "execute_result"
    }
   ],
   "source": [
    "pm.model_to_graphviz(model)"
   ]
  },
  {
   "cell_type": "code",
   "execution_count": 28,
   "metadata": {},
   "outputs": [
    {
     "data": {
      "image/png": "[encoded data removed]",
      "text/plain": [
       "<Figure size 432x288 with 1 Axes>"
      ]
     },
     "metadata": {},
     "output_type": "display_data"
    }
   ],
   "source": [
    "plt.hist(trace[\"freq_cheating\"]);"
   ]
  },
  {
   "cell_type": "markdown",
   "metadata": {},
   "source": [
    "## Example: Challenger Space Shuttle Disaster"
   ]
  },
  {
   "cell_type": "code",
   "execution_count": 29,
   "metadata": {},
   "outputs": [
    {
     "data": {
      "text/plain": [
       "('data/challenger.csv', <http.client.HTTPMessage at 0x7f0a60db2610>)"
      ]
     },
     "execution_count": 29,
     "metadata": {},
     "output_type": "execute_result"
    }
   ],
   "source": [
    "os.makedirs(\"data\",exist_ok=True)\n",
    "urlretrieve(\"https://git.io/vXknD\",\"data/challenger.csv\")"
   ]
  },
  {
   "cell_type": "code",
   "execution_count": 30,
   "metadata": {},
   "outputs": [],
   "source": [
    "df=pd.read_csv(\"data/challenger.csv\").dropna().iloc[:-1]"
   ]
  },
  {
   "cell_type": "code",
   "execution_count": 31,
   "metadata": {},
   "outputs": [
    {
     "data": {
      "text/plain": [
       "<matplotlib.collections.PathCollection at 0x7f0a60caf340>"
      ]
     },
     "execution_count": 31,
     "metadata": {},
     "output_type": "execute_result"
    },
    {
     "data": {
      "image/png": "[encoded data removed]",
      "text/plain": [
       "<Figure size 432x288 with 1 Axes>"
      ]
     },
     "metadata": {},
     "output_type": "display_data"
    }
   ],
   "source": [
    "plt.scatter(df[\"Temperature\"],df[\"Damage Incident\"])"
   ]
  },
  {
   "cell_type": "code",
   "execution_count": 32,
   "metadata": {},
   "outputs": [],
   "source": [
    "temperature=df[\"Temperature\"].values\n",
    "D=df[\"Damage Incident\"]"
   ]
  },
  {
   "cell_type": "code",
   "execution_count": 33,
   "metadata": {},
   "outputs": [
    {
     "data": {
      "text/html": [
       "\n",
       "    <div>\n",
       "        <style>\n",
       "            /* Turns off some styling */\n",
       "            progress {\n",
       "                /* gets rid of default border in Firefox and Opera. */\n",
       "                border: none;\n",
       "                /* Needs to be in here for Safari polyfill so background images work as expected. */\n",
       "                background-size: auto;\n",
       "            }\n",
       "            .progress-bar-interrupted, .progress-bar-interrupted::-webkit-progress-bar {\n",
       "                background: #F44336;\n",
       "            }\n",
       "        </style>\n",
       "      <progress value='26' class='' max='26' style='width:300px; height:20px; vertical-align: middle;'></progress>\n",
       "      100.00% [26/26 00:00<00:00 logp = -19.024, ||grad|| = 9.9071]\n",
       "    </div>\n",
       "    "
      ],
      "text/plain": [
       "<IPython.core.display.HTML object>"
      ]
     },
     "metadata": {},
     "output_type": "display_data"
    },
    {
     "name": "stdout",
     "output_type": "stream",
     "text": [
      "\n"
     ]
    },
    {
     "name": "stderr",
     "output_type": "stream",
     "text": [
      "Multiprocess sampling (4 chains in 4 jobs)\n",
      "INFO:pymc3:Multiprocess sampling (4 chains in 4 jobs)\n",
      "CompoundStep\n",
      "INFO:pymc3:CompoundStep\n",
      ">Metropolis: [alpha]\n",
      "INFO:pymc3:>Metropolis: [alpha]\n",
      ">Metropolis: [beta]\n",
      "INFO:pymc3:>Metropolis: [beta]\n"
     ]
    },
    {
     "data": {
      "text/html": [
       "\n",
       "    <div>\n",
       "        <style>\n",
       "            /* Turns off some styling */\n",
       "            progress {\n",
       "                /* gets rid of default border in Firefox and Opera. */\n",
       "                border: none;\n",
       "                /* Needs to be in here for Safari polyfill so background images work as expected. */\n",
       "                background-size: auto;\n",
       "            }\n",
       "            .progress-bar-interrupted, .progress-bar-interrupted::-webkit-progress-bar {\n",
       "                background: #F44336;\n",
       "            }\n",
       "        </style>\n",
       "      <progress value='484000' class='' max='484000' style='width:300px; height:20px; vertical-align: middle;'></progress>\n",
       "      100.00% [484000/484000 01:09<00:00 Sampling 4 chains, 0 divergences]\n",
       "    </div>\n",
       "    "
      ],
      "text/plain": [
       "<IPython.core.display.HTML object>"
      ]
     },
     "metadata": {},
     "output_type": "display_data"
    },
    {
     "name": "stderr",
     "output_type": "stream",
     "text": [
      "Sampling 4 chains for 1_000 tune and 120_000 draw iterations (4_000 + 480_000 draws total) took 70 seconds.\n",
      "INFO:pymc3:Sampling 4 chains for 1_000 tune and 120_000 draw iterations (4_000 + 480_000 draws total) took 70 seconds.\n",
      "The number of effective samples is smaller than 10% for some parameters.\n",
      "WARNING:pymc3:The number of effective samples is smaller than 10% for some parameters.\n"
     ]
    }
   ],
   "source": [
    "with pm.Model() as model:\n",
    "    beta=pm.Normal(\"beta\",mu=0,tau=0.001,testval=0)\n",
    "    alpha=pm.Normal(\"alpha\",mu=0,tau=0.001,testval=0)\n",
    "    p=pm.Deterministic(\"p\",1/(1+tt.exp(beta*temperature+alpha)))\n",
    "    observed=pm.Bernoulli(\"bernoulli_obs\",p,observed=D)\n",
    "    \n",
    "    start = pm.find_MAP()\n",
    "    step = pm.Metropolis()\n",
    "    trace = pm.sample(120000, step=step, start=start,return_inferencedata=False)\n",
    "    burned_trace = trace[100000::2]"
   ]
  },
  {
   "cell_type": "code",
   "execution_count": 34,
   "metadata": {},
   "outputs": [
    {
     "data": {
      "image/svg+xml": [
       "<?xml version=\"1.0\" encoding=\"UTF-8\" standalone=\"no\"?>\n",
       "<!DOCTYPE svg PUBLIC \"-//W3C//DTD SVG 1.1//EN\"\n",
       " \"http://www.w3.org/Graphics/SVG/1.1/DTD/svg11.dtd\">\n",
       "<!-- Generated by graphviz version 2.40.1 (20161225.0304)\n",
       " -->\n",
       "<!-- Title: %3 Pages: 1 -->\n",
       "<svg width=\"226pt\" height=\"322pt\"\n",
       " viewBox=\"0.00 0.00 226.41 321.91\" xmlns=\"http://www.w3.org/2000/svg\" xmlns:xlink=\"http://www.w3.org/1999/xlink\">\n",
       "<g id=\"graph0\" class=\"graph\" transform=\"scale(1 1) rotate(0) translate(4 317.9066)\">\n",
       "<title>%3</title>\n",
       "<polygon fill=\"#ffffff\" stroke=\"transparent\" points=\"-4,4 -4,-317.9066 222.4092,-317.9066 222.4092,4 -4,4\"/>\n",
       "<g id=\"clust1\" class=\"cluster\">\n",
       "<title>cluster23</title>\n",
       "<path fill=\"none\" stroke=\"#000000\" d=\"M33.2046,-8C33.2046,-8 185.2046,-8 185.2046,-8 191.2046,-8 197.2046,-14 197.2046,-20 197.2046,-20 197.2046,-198.9533 197.2046,-198.9533 197.2046,-204.9533 191.2046,-210.9533 185.2046,-210.9533 185.2046,-210.9533 33.2046,-210.9533 33.2046,-210.9533 27.2046,-210.9533 21.2046,-204.9533 21.2046,-198.9533 21.2046,-198.9533 21.2046,-20 21.2046,-20 21.2046,-14 27.2046,-8 33.2046,-8\"/>\n",
       "<text text-anchor=\"middle\" x=\"179.7046\" y=\"-15.8\" font-family=\"Times,serif\" font-size=\"14.00\" fill=\"#000000\">23</text>\n",
       "</g>\n",
       "<!-- alpha -->\n",
       "<g id=\"node1\" class=\"node\">\n",
       "<title>alpha</title>\n",
       "<ellipse fill=\"none\" stroke=\"#000000\" cx=\"50.2046\" cy=\"-276.43\" rx=\"50.41\" ry=\"37.4533\"/>\n",
       "<text text-anchor=\"middle\" x=\"50.2046\" y=\"-287.73\" font-family=\"Times,serif\" font-size=\"14.00\" fill=\"#000000\">alpha</text>\n",
       "<text text-anchor=\"middle\" x=\"50.2046\" y=\"-272.73\" font-family=\"Times,serif\" font-size=\"14.00\" fill=\"#000000\">~</text>\n",
       "<text text-anchor=\"middle\" x=\"50.2046\" y=\"-257.73\" font-family=\"Times,serif\" font-size=\"14.00\" fill=\"#000000\">Normal</text>\n",
       "</g>\n",
       "<!-- p -->\n",
       "<g id=\"node4\" class=\"node\">\n",
       "<title>p</title>\n",
       "<polygon fill=\"none\" stroke=\"#000000\" points=\"166.7046,-202.9533 51.7046,-202.9533 51.7046,-149.9533 166.7046,-149.9533 166.7046,-202.9533\"/>\n",
       "<text text-anchor=\"middle\" x=\"109.2046\" y=\"-187.7533\" font-family=\"Times,serif\" font-size=\"14.00\" fill=\"#000000\">p</text>\n",
       "<text text-anchor=\"middle\" x=\"109.2046\" y=\"-172.7533\" font-family=\"Times,serif\" font-size=\"14.00\" fill=\"#000000\">~</text>\n",
       "<text text-anchor=\"middle\" x=\"109.2046\" y=\"-157.7533\" font-family=\"Times,serif\" font-size=\"14.00\" fill=\"#000000\">Deterministic</text>\n",
       "</g>\n",
       "<!-- alpha&#45;&gt;p -->\n",
       "<g id=\"edge1\" class=\"edge\">\n",
       "<title>alpha&#45;&gt;p</title>\n",
       "<path fill=\"none\" stroke=\"#000000\" d=\"M70.509,-242.0237C76.2767,-232.2502 82.5655,-221.5938 88.3644,-211.7675\"/>\n",
       "<polygon fill=\"#000000\" stroke=\"#000000\" points=\"91.455,-213.4168 93.5232,-203.0258 85.4265,-209.8591 91.455,-213.4168\"/>\n",
       "</g>\n",
       "<!-- beta -->\n",
       "<g id=\"node2\" class=\"node\">\n",
       "<title>beta</title>\n",
       "<ellipse fill=\"none\" stroke=\"#000000\" cx=\"168.2046\" cy=\"-276.43\" rx=\"50.41\" ry=\"37.4533\"/>\n",
       "<text text-anchor=\"middle\" x=\"168.2046\" y=\"-287.73\" font-family=\"Times,serif\" font-size=\"14.00\" fill=\"#000000\">beta</text>\n",
       "<text text-anchor=\"middle\" x=\"168.2046\" y=\"-272.73\" font-family=\"Times,serif\" font-size=\"14.00\" fill=\"#000000\">~</text>\n",
       "<text text-anchor=\"middle\" x=\"168.2046\" y=\"-257.73\" font-family=\"Times,serif\" font-size=\"14.00\" fill=\"#000000\">Normal</text>\n",
       "</g>\n",
       "<!-- beta&#45;&gt;p -->\n",
       "<g id=\"edge2\" class=\"edge\">\n",
       "<title>beta&#45;&gt;p</title>\n",
       "<path fill=\"none\" stroke=\"#000000\" d=\"M147.9001,-242.0237C142.1324,-232.2502 135.8437,-221.5938 130.0448,-211.7675\"/>\n",
       "<polygon fill=\"#000000\" stroke=\"#000000\" points=\"132.9827,-209.8591 124.886,-203.0258 126.9541,-213.4168 132.9827,-209.8591\"/>\n",
       "</g>\n",
       "<!-- bernoulli_obs -->\n",
       "<g id=\"node3\" class=\"node\">\n",
       "<title>bernoulli_obs</title>\n",
       "<ellipse fill=\"#d3d3d3\" stroke=\"#000000\" cx=\"109.2046\" cy=\"-76.4767\" rx=\"79.8063\" ry=\"37.4533\"/>\n",
       "<text text-anchor=\"middle\" x=\"109.2046\" y=\"-87.7767\" font-family=\"Times,serif\" font-size=\"14.00\" fill=\"#000000\">bernoulli_obs</text>\n",
       "<text text-anchor=\"middle\" x=\"109.2046\" y=\"-72.7767\" font-family=\"Times,serif\" font-size=\"14.00\" fill=\"#000000\">~</text>\n",
       "<text text-anchor=\"middle\" x=\"109.2046\" y=\"-57.7767\" font-family=\"Times,serif\" font-size=\"14.00\" fill=\"#000000\">Bernoulli</text>\n",
       "</g>\n",
       "<!-- p&#45;&gt;bernoulli_obs -->\n",
       "<g id=\"edge3\" class=\"edge\">\n",
       "<title>p&#45;&gt;bernoulli_obs</title>\n",
       "<path fill=\"none\" stroke=\"#000000\" d=\"M109.2046,-149.9239C109.2046,-142.0239 109.2046,-133.113 109.2046,-124.2925\"/>\n",
       "<polygon fill=\"#000000\" stroke=\"#000000\" points=\"112.7047,-124.0454 109.2046,-114.0454 105.7047,-124.0455 112.7047,-124.0454\"/>\n",
       "</g>\n",
       "</g>\n",
       "</svg>\n"
      ],
      "text/plain": [
       "<graphviz.dot.Digraph at 0x7f0a60df8ca0>"
      ]
     },
     "execution_count": 34,
     "metadata": {},
     "output_type": "execute_result"
    }
   ],
   "source": [
    "pm.model_to_graphviz(model)"
   ]
  },
  {
   "cell_type": "code",
   "execution_count": 35,
   "metadata": {},
   "outputs": [
    {
     "data": {
      "image/png": "[encoded data removed]",
      "text/plain": [
       "<Figure size 432x288 with 2 Axes>"
      ]
     },
     "metadata": {},
     "output_type": "display_data"
    }
   ],
   "source": [
    "fig,axes=plt.subplots(2)\n",
    "axes[0].hist(burned_trace[\"alpha\"],bins=30)\n",
    "axes[1].hist(burned_trace[\"beta\"],bins=30);"
   ]
  },
  {
   "cell_type": "code",
   "execution_count": 36,
   "metadata": {},
   "outputs": [],
   "source": [
    "def logistic(x, beta, alpha=0):\n",
    "    return 1.0 / (1.0 + np.exp(np.dot(beta, x) + alpha))"
   ]
  },
  {
   "cell_type": "code",
   "execution_count": 37,
   "metadata": {},
   "outputs": [],
   "source": [
    "alpha_samples=burned_trace[\"alpha\"][:,None]\n",
    "beta_samples=burned_trace[\"beta\"][:,None]\n",
    "t = np.linspace(temperature.min() - 5, temperature.max()+5, 50)[:, None]\n",
    "p_t = logistic(t.T, beta_samples, alpha_samples)\n",
    "mean_prob_t = p_t.mean(axis=0)"
   ]
  },
  {
   "cell_type": "code",
   "execution_count": 38,
   "metadata": {},
   "outputs": [
    {
     "data": {
      "text/plain": [
       "<matplotlib.collections.PathCollection at 0x7f0a5b6d3580>"
      ]
     },
     "execution_count": 38,
     "metadata": {},
     "output_type": "execute_result"
    },
    {
     "data": {
      "image/png": "[encoded data removed]",
      "text/plain": [
       "<Figure size 432x288 with 1 Axes>"
      ]
     },
     "metadata": {},
     "output_type": "display_data"
    }
   ],
   "source": [
    "plt.plot(t,mean_prob_t)\n",
    "qs = mquantiles(p_t, [0.025, 0.975], axis=0)\n",
    "plt.fill_between(t[:, 0], *qs, alpha=0.7,color=\"#7A68A6\")\n",
    "plt.scatter(temperature,D)"
   ]
  },
  {
   "cell_type": "code",
   "execution_count": 39,
   "metadata": {},
   "outputs": [
    {
     "data": {
      "text/plain": [
       "<matplotlib.collections.PathCollection at 0x7f0a5b692f70>"
      ]
     },
     "execution_count": 39,
     "metadata": {},
     "output_type": "execute_result"
    },
    {
     "data": {
      "image/png": "[encoded data removed]",
      "text/plain": [
       "<Figure size 432x288 with 1 Axes>"
      ]
     },
     "metadata": {},
     "output_type": "display_data"
    }
   ],
   "source": [
    "plt.scatter(alpha_samples,beta_samples)"
   ]
  },
  {
   "cell_type": "code",
   "execution_count": null,
   "metadata": {},
   "outputs": [],
   "source": []
  }
 ],
 "metadata": {
  "kernelspec": {
   "display_name": "Python 3",
   "language": "python",
   "name": "python3"
  },
  "language_info": {
   "codemirror_mode": {
    "name": "ipython",
    "version": 3
   },
   "file_extension": ".py",
   "mimetype": "text/x-python",
   "name": "python",
   "nbconvert_exporter": "python",
   "pygments_lexer": "ipython3",
   "version": "3.8.7"
  }
 },
 "nbformat": 4,
 "nbformat_minor": 4
}
