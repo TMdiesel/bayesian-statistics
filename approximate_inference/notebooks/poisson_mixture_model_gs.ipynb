{
 "cells": [
  {
   "cell_type": "markdown",
   "metadata": {},
   "source": [
    "## overview"
   ]
  },
  {
   "cell_type": "code",
   "execution_count": 1,
   "metadata": {},
   "outputs": [],
   "source": [
    "# default package\n",
    "import logging\n",
    "import sys \n",
    "import os\n",
    "import pathlib\n",
    "import IPython\n",
    "import random"
   ]
  },
  {
   "cell_type": "code",
   "execution_count": 2,
   "metadata": {},
   "outputs": [],
   "source": [
    "# third party package\n",
    "import pandas as pd \n",
    "import numpy as np\n",
    "import matplotlib.pyplot as plt\n",
    "import seaborn\n",
    "from tqdm import tqdm"
   ]
  },
  {
   "cell_type": "code",
   "execution_count": 3,
   "metadata": {},
   "outputs": [],
   "source": [
    "# my package\n",
    "sys.path.append(os.path.join(pathlib.Path().resolve(),\"../\"))"
   ]
  },
  {
   "cell_type": "code",
   "execution_count": 4,
   "metadata": {},
   "outputs": [],
   "source": [
    "# reload settings\n",
    "%load_ext autoreload\n",
    "%autoreload 2"
   ]
  },
  {
   "cell_type": "code",
   "execution_count": 5,
   "metadata": {},
   "outputs": [],
   "source": [
    "# logger\n",
    "logger=logging.getLogger(__name__)\n",
    "logging.basicConfig(level=logging.INFO)"
   ]
  },
  {
   "cell_type": "markdown",
   "metadata": {},
   "source": [
    "## ポアソン混合モデルからデータ生成"
   ]
  },
  {
   "cell_type": "code",
   "execution_count": 6,
   "metadata": {},
   "outputs": [],
   "source": [
    "X1=np.random.poisson(lam=10,size=100)\n",
    "X2=np.random.poisson(lam=20,size=100)\n",
    "X=np.concatenate([X1,X2])"
   ]
  },
  {
   "cell_type": "code",
   "execution_count": 7,
   "metadata": {},
   "outputs": [
    {
     "data": {
      "image/png": "[encoded data removed]",
      "text/plain": [
       "<Figure size 432x288 with 1 Axes>"
      ]
     },
     "metadata": {
      "needs_background": "light"
     },
     "output_type": "display_data"
    }
   ],
   "source": [
    "plt.hist([X1,X2],bins=15);"
   ]
  },
  {
   "cell_type": "markdown",
   "metadata": {},
   "source": [
    "## ギブスサンプリング"
   ]
  },
  {
   "cell_type": "code",
   "execution_count": 8,
   "metadata": {},
   "outputs": [],
   "source": [
    "def make_sum_one(x:np.array)->np.array:\n",
    "    \"\"\"配列の和を1にする\"\"\"\n",
    "    return x/x.sum()"
   ]
  },
  {
   "cell_type": "code",
   "execution_count": 9,
   "metadata": {},
   "outputs": [],
   "source": [
    "#setting\n",
    "K=2\n",
    "iter_num=1000"
   ]
  },
  {
   "cell_type": "code",
   "execution_count": 10,
   "metadata": {},
   "outputs": [],
   "source": [
    "#メモリ確保\n",
    "s=np.ones((iter_num,len(X),K))\n",
    "lam=np.ones((iter_num,K))\n",
    "pi=np.ones((iter_num,K))"
   ]
  },
  {
   "cell_type": "code",
   "execution_count": 11,
   "metadata": {},
   "outputs": [],
   "source": [
    "#初期値\n",
    "lam[0,:]=np.random.rand(K)\n",
    "pi[0,:]=[0.5,0.5]\n",
    "#事前分布のパラメータ\n",
    "a=1\n",
    "b=1\n",
    "alpha=np.ones(K)"
   ]
  },
  {
   "cell_type": "code",
   "execution_count": 12,
   "metadata": {},
   "outputs": [],
   "source": [
    "def gibbs_sampling():\n",
    "    for i in tqdm(range(1,iter_num)):\n",
    "        for n in range(len(X)):\n",
    "            eta=make_sum_one(np.exp(X[n]*np.log(lam[i-1])-lam[i-1]+np.log(pi[i-1])))\n",
    "            s[i,n,:]=np.random.multinomial(1, eta)\n",
    "        for k in range(K):\n",
    "            a_hat=(s[i,:,k]*X).sum()+a\n",
    "            b_hat=(s[i,:,k]).sum()+b\n",
    "            lam[i,k]=np.random.gamma(shape=a_hat,scale=1/b_hat)\n",
    "        alpha_hat=s[i,:,:].sum(axis=0)+alpha\n",
    "        pi[i,:]=np.random.dirichlet(alpha_hat)\n",
    "    return s[1:,:,:],lam[1:,:],pi[1:,:]"
   ]
  },
  {
   "cell_type": "code",
   "execution_count": 13,
   "metadata": {},
   "outputs": [
    {
     "name": "stderr",
     "output_type": "stream",
     "text": [
      "100%|██████████| 999/999 [00:04<00:00, 219.37it/s]\n"
     ]
    }
   ],
   "source": [
    "s,lam,pi=gibbs_sampling()"
   ]
  },
  {
   "cell_type": "code",
   "execution_count": 14,
   "metadata": {},
   "outputs": [
    {
     "data": {
      "image/png": "[encoded data removed]",
      "text/plain": [
       "<Figure size 432x288 with 1 Axes>"
      ]
     },
     "metadata": {
      "needs_background": "light"
     },
     "output_type": "display_data"
    }
   ],
   "source": [
    "fig,ax=plt.subplots()\n",
    "ax.hist(lam[:,0],bins=50,label=\"posterior\");\n",
    "ax.hist(lam[:,1],bins=50,label=\"posterior\");\n",
    "ax.axvline(20,color=\"black\",label=\"true value\")\n",
    "ax.axvline(10,color=\"black\")\n",
    "ax.set_title(\"lambda\")\n",
    "ax.legend();"
   ]
  },
  {
   "cell_type": "code",
   "execution_count": null,
   "metadata": {},
   "outputs": [],
   "source": []
  }
 ],
 "metadata": {
  "kernelspec": {
   "display_name": "Python 3",
   "language": "python",
   "name": "python3"
  },
  "language_info": {
   "codemirror_mode": {
    "name": "ipython",
    "version": 3
   },
   "file_extension": ".py",
   "mimetype": "text/x-python",
   "name": "python",
   "nbconvert_exporter": "python",
   "pygments_lexer": "ipython3",
   "version": "3.8.7"
  }
 },
 "nbformat": 4,
 "nbformat_minor": 4
}
