{
 "cells": [
  {
   "cell_type": "markdown",
   "metadata": {},
   "source": [
    "## overview"
   ]
  },
  {
   "cell_type": "code",
   "execution_count": 1,
   "metadata": {},
   "outputs": [],
   "source": [
    "# default package\n",
    "import logging\n",
    "import sys \n",
    "import os\n",
    "import pathlib\n",
    "import IPython\n",
    "import random"
   ]
  },
  {
   "cell_type": "code",
   "execution_count": 2,
   "metadata": {},
   "outputs": [],
   "source": [
    "# third party package\n",
    "import pandas as pd \n",
    "import numpy as np\n",
    "import matplotlib.pyplot as plt\n",
    "import seaborn\n",
    "from tqdm import tqdm\n",
    "import scipy"
   ]
  },
  {
   "cell_type": "code",
   "execution_count": 3,
   "metadata": {},
   "outputs": [],
   "source": [
    "# my package\n",
    "sys.path.append(os.path.join(pathlib.Path().resolve(),\"../\"))"
   ]
  },
  {
   "cell_type": "code",
   "execution_count": 4,
   "metadata": {},
   "outputs": [],
   "source": [
    "# reload settings\n",
    "%load_ext autoreload\n",
    "%autoreload 2"
   ]
  },
  {
   "cell_type": "code",
   "execution_count": 5,
   "metadata": {},
   "outputs": [],
   "source": [
    "# logger\n",
    "logger=logging.getLogger(__name__)\n",
    "logging.basicConfig(level=logging.INFO)"
   ]
  },
  {
   "cell_type": "markdown",
   "metadata": {},
   "source": [
    "## ポアソン混合モデルからデータ生成"
   ]
  },
  {
   "cell_type": "code",
   "execution_count": 6,
   "metadata": {},
   "outputs": [],
   "source": [
    "X1=np.random.poisson(lam=10,size=100)\n",
    "X2=np.random.poisson(lam=20,size=100)\n",
    "X=np.concatenate([X1,X2])"
   ]
  },
  {
   "cell_type": "code",
   "execution_count": 7,
   "metadata": {},
   "outputs": [
    {
     "data": {
      "image/png": "[encoded data removed]",
      "text/plain": [
       "<Figure size 432x288 with 1 Axes>"
      ]
     },
     "metadata": {
      "needs_background": "light"
     },
     "output_type": "display_data"
    }
   ],
   "source": [
    "plt.hist([X1,X2],bins=15);"
   ]
  },
  {
   "cell_type": "markdown",
   "metadata": {},
   "source": [
    "## ギブスサンプリング"
   ]
  },
  {
   "cell_type": "code",
   "execution_count": 8,
   "metadata": {},
   "outputs": [],
   "source": [
    "def make_sum_one(x:np.array)->np.array:\n",
    "    \"\"\"配列の和を1にする\"\"\"\n",
    "    return x/x.sum()"
   ]
  },
  {
   "cell_type": "code",
   "execution_count": 9,
   "metadata": {},
   "outputs": [],
   "source": [
    "#setting\n",
    "K=2\n",
    "iter_num=1000"
   ]
  },
  {
   "cell_type": "code",
   "execution_count": 10,
   "metadata": {},
   "outputs": [],
   "source": [
    "#初期値\n",
    "eta=np.ones((len(X),K))\n",
    "a_hat=np.array([0.1,1.1])\n",
    "b_hat=np.array([0.1,1.1])\n",
    "alpha_hat=np.ones(K)\n",
    "#事前分布のパラメータ\n",
    "a=1\n",
    "b=1\n",
    "alpha=np.ones(K)"
   ]
  },
  {
   "cell_type": "code",
   "execution_count": 11,
   "metadata": {},
   "outputs": [],
   "source": [
    "def variational_inference(alpha_hat=alpha_hat):\n",
    "    for i in tqdm(range(1,iter_num)):\n",
    "        for n in range(len(X)):\n",
    "            ln_lam_mean=scipy.special.psi(a_hat)-np.log(b_hat)\n",
    "            lam_mean=a_hat/b_hat\n",
    "            ln_pi_mean=scipy.special.psi(alpha_hat)-scipy.special.psi(alpha_hat.sum())\n",
    "            eta[n,:]=make_sum_one(np.exp(X[n]*ln_lam_mean-lam_mean+ln_pi_mean))\n",
    "        for k in range(K):\n",
    "            a_hat[k]=(eta[:,k]*X).sum()+a\n",
    "            b_hat[k]=(eta[:,k]).sum()+b\n",
    "        alpha_hat=eta.sum(axis=0)+alpha\n",
    "    return a_hat,b_hat"
   ]
  },
  {
   "cell_type": "code",
   "execution_count": 12,
   "metadata": {},
   "outputs": [
    {
     "name": "stderr",
     "output_type": "stream",
     "text": [
      "100%|██████████| 999/999 [00:02<00:00, 371.47it/s]\n"
     ]
    }
   ],
   "source": [
    "a_hat,b_hat=variational_inference()"
   ]
  },
  {
   "cell_type": "code",
   "execution_count": 13,
   "metadata": {},
   "outputs": [
    {
     "data": {
      "image/png": "[encoded data removed]",
      "text/plain": [
       "<Figure size 432x288 with 1 Axes>"
      ]
     },
     "metadata": {
      "needs_background": "light"
     },
     "output_type": "display_data"
    }
   ],
   "source": [
    "fig,ax=plt.subplots()\n",
    "x = np.linspace(0,25,10000)\n",
    "plt.plot(x,scipy.stats.gamma.pdf(x,a_hat[0],scale=1/b_hat[0]),'r-',lw=1,label=\"posterior\")\n",
    "plt.plot(x,scipy.stats.gamma.pdf(x,a_hat[1],scale=1/b_hat[1]),'b-',lw=1,label=\"posterior\")\n",
    "ax.axvline(20,color=\"black\",label=\"true value\")\n",
    "ax.axvline(10,color=\"black\")\n",
    "ax.set_title(\"lambda\")\n",
    "ax.legend();"
   ]
  },
  {
   "cell_type": "code",
   "execution_count": null,
   "metadata": {},
   "outputs": [],
   "source": []
  }
 ],
 "metadata": {
  "kernelspec": {
   "display_name": "Python 3",
   "language": "python",
   "name": "python3"
  },
  "language_info": {
   "codemirror_mode": {
    "name": "ipython",
    "version": 3
   },
   "file_extension": ".py",
   "mimetype": "text/x-python",
   "name": "python",
   "nbconvert_exporter": "python",
   "pygments_lexer": "ipython3",
   "version": "3.8.7"
  }
 },
 "nbformat": 4,
 "nbformat_minor": 4
}
