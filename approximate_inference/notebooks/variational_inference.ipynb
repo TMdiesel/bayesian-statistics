{
 "cells": [
  {
   "cell_type": "markdown",
   "metadata": {},
   "source": [
    "## overview"
   ]
  },
  {
   "cell_type": "code",
   "execution_count": 1,
   "metadata": {},
   "outputs": [],
   "source": [
    "# default package\n",
    "import logging\n",
    "import sys \n",
    "import os\n",
    "import pathlib\n",
    "import IPython\n",
    "import random\n",
    "import typing as t"
   ]
  },
  {
   "cell_type": "code",
   "execution_count": 2,
   "metadata": {},
   "outputs": [],
   "source": [
    "# third party package\n",
    "import pandas as pd \n",
    "import numpy as np\n",
    "import matplotlib.pyplot as plt\n",
    "import seaborn\n",
    "from tqdm import tqdm\n",
    "from matplotlib.animation import FuncAnimation\n",
    "import scipy"
   ]
  },
  {
   "cell_type": "code",
   "execution_count": 3,
   "metadata": {},
   "outputs": [],
   "source": [
    "# my package\n",
    "sys.path.append(os.path.join(pathlib.Path().resolve(),\"../\"))"
   ]
  },
  {
   "cell_type": "code",
   "execution_count": 4,
   "metadata": {},
   "outputs": [],
   "source": [
    "# reload settings\n",
    "%load_ext autoreload\n",
    "%autoreload 2"
   ]
  },
  {
   "cell_type": "code",
   "execution_count": 5,
   "metadata": {},
   "outputs": [],
   "source": [
    "# logger\n",
    "logger=logging.getLogger(__name__)\n",
    "logging.basicConfig(level=logging.INFO)"
   ]
  },
  {
   "cell_type": "markdown",
   "metadata": {},
   "source": [
    "## 変分近似"
   ]
  },
  {
   "cell_type": "code",
   "execution_count": 6,
   "metadata": {},
   "outputs": [],
   "source": [
    "mu = np.array([0,0])\n",
    "sigma = np.array([[1,0.5],[0.5,1]])\n",
    "inv = np.linalg.inv(sigma)"
   ]
  },
  {
   "cell_type": "code",
   "execution_count": 7,
   "metadata": {},
   "outputs": [],
   "source": [
    "def gaussian(x)->float:\n",
    "    \"\"\"\n",
    "    二次元正規分布の確率密度を返す関数\n",
    "    \"\"\"\n",
    "    det = np.linalg.det(sigma)\n",
    "    n = x.ndim\n",
    "    return np.exp(-np.diag((x - mu)@inv@(x - mu).T)/2.0) / (np.sqrt((2 * np.pi) ** n * det))"
   ]
  },
  {
   "cell_type": "code",
   "execution_count": 8,
   "metadata": {},
   "outputs": [],
   "source": [
    "def create_grid(func,min:int=-3,max:int=3):\n",
    "    x = y = np.arange(min, max, 0.5)\n",
    "    X, Y = np.meshgrid(x, y)\n",
    "    z = np.c_[X.ravel(),Y.ravel()]\n",
    "    Z = func(z)\n",
    "    Z = Z.reshape(X.shape)\n",
    "    return X,Y,Z"
   ]
  },
  {
   "cell_type": "code",
   "execution_count": 9,
   "metadata": {},
   "outputs": [],
   "source": [
    "def variational_inference(x)->float:\n",
    "    m2=1\n",
    "    for _ in range(100):\n",
    "        m1=mu[0]-inv[0,1]/inv[0,0]*(m2-mu[1])\n",
    "        m2=mu[1]-inv[1,0]/inv[1,1]*(m1-mu[0])\n",
    "    q1=scipy.stats.norm.pdf(x[:,0],loc=m1,scale=1/inv[0,0])\n",
    "    q2=scipy.stats.norm.pdf(x[:,1],loc=m2,scale=1/inv[1,1])\n",
    "    return q1*q2"
   ]
  },
  {
   "cell_type": "code",
   "execution_count": 10,
   "metadata": {},
   "outputs": [
    {
     "data": {
      "image/png": "[encoded data removed]",
      "text/plain": [
       "<Figure size 432x288 with 1 Axes>"
      ]
     },
     "metadata": {
      "needs_background": "light"
     },
     "output_type": "display_data"
    }
   ],
   "source": [
    "X,Y,Z=create_grid(gaussian)\n",
    "plt.contour(X, Y, Z,alpha=0.5,levels=[0.05],colors=\"blue\");\n",
    "X,Y,Z=create_grid(variational_inference)\n",
    "plt.contour(X, Y, Z,alpha=0.5,levels=[0.05],colors=\"red\");"
   ]
  },
  {
   "cell_type": "code",
   "execution_count": null,
   "metadata": {},
   "outputs": [],
   "source": []
  }
 ],
 "metadata": {
  "kernelspec": {
   "display_name": "Python 3",
   "language": "python",
   "name": "python3"
  },
  "language_info": {
   "codemirror_mode": {
    "name": "ipython",
    "version": 3
   },
   "file_extension": ".py",
   "mimetype": "text/x-python",
   "name": "python",
   "nbconvert_exporter": "python",
   "pygments_lexer": "ipython3",
   "version": "3.8.7"
  }
 },
 "nbformat": 4,
 "nbformat_minor": 4
}
