{
 "cells": [
  {
   "cell_type": "markdown",
   "metadata": {},
   "source": [
    "## overview"
   ]
  },
  {
   "cell_type": "code",
   "execution_count": 1,
   "metadata": {},
   "outputs": [],
   "source": [
    "# default package\n",
    "import logging\n",
    "import sys \n",
    "import os\n",
    "import pathlib\n",
    "import IPython\n",
    "import random\n",
    "from urllib.request import urlretrieve\n",
    "import re"
   ]
  },
  {
   "cell_type": "code",
   "execution_count": 2,
   "metadata": {},
   "outputs": [
    {
     "name": "stderr",
     "output_type": "stream",
     "text": [
      "WARNING (theano.tensor.blas): Using NumPy C-API based implementation for BLAS functions.\n"
     ]
    }
   ],
   "source": [
    "# third party package\n",
    "import pandas as pd \n",
    "import numpy as np\n",
    "import matplotlib.pyplot as plt\n",
    "import seaborn\n",
    "from tqdm import tqdm\n",
    "import pymc3 as pm\n",
    "import seaborn as sns\n",
    "import theano.tensor as tt\n",
    "import scipy.stats as stats\n",
    "from scipy.stats.mstats import mquantiles\n",
    "import arviz as az\n",
    "import matplotlib\n",
    "from matplotlib.font_manager import FontProperties"
   ]
  },
  {
   "cell_type": "code",
   "execution_count": 3,
   "metadata": {},
   "outputs": [],
   "source": [
    "# my package\n",
    "sys.path.append(os.path.join(pathlib.Path().resolve(),\"../\"))"
   ]
  },
  {
   "cell_type": "code",
   "execution_count": 4,
   "metadata": {},
   "outputs": [],
   "source": [
    "# reload settings\n",
    "%load_ext autoreload\n",
    "%autoreload 2"
   ]
  },
  {
   "cell_type": "code",
   "execution_count": 5,
   "metadata": {},
   "outputs": [],
   "source": [
    "# logger\n",
    "logger=logging.getLogger(__name__)\n",
    "logging.basicConfig(level=logging.ERROR)"
   ]
  },
  {
   "cell_type": "code",
   "execution_count": 6,
   "metadata": {},
   "outputs": [],
   "source": [
    "# graph setting\n",
    "sns.set()\n",
    "font_path = \"/usr/share/fonts/truetype/migmix/migmix-1p-regular.ttf\"\n",
    "font_prop = FontProperties(fname=font_path)\n",
    "matplotlib.rcParams[\"font.family\"] = font_prop.get_name()"
   ]
  },
  {
   "cell_type": "markdown",
   "metadata": {},
   "source": [
    "## read data"
   ]
  },
  {
   "cell_type": "code",
   "execution_count": 7,
   "metadata": {},
   "outputs": [],
   "source": [
    "with open(\"./data/soccer.csv\") as f:\n",
    "    text=f.readlines()\n",
    "df=pd.DataFrame(columns=[\"home_team\",\"away_team\",\"home_score\",\"away_score\"])\n",
    "for term in text:\n",
    "    term1=term.split(\"-\")[0]\n",
    "    num1=re.sub(\"\\\\D\", \"\", term1)\n",
    "    country1=term1.replace(num1,\"\")\n",
    "    term2=term.split(\"-\")[1]\n",
    "    num2=re.sub(\"\\\\D\", \"\", term2)\n",
    "    country2=term2.replace(num2,\"\").replace(\"\\n\",\"\")\n",
    "    \n",
    "    inserted=pd.Series([country1,country2,int(num1),int(num2)],index=df.columns)\n",
    "    df=df.append(inserted,ignore_index=True)\n",
    "df = df.astype({'home_score': int,'away_score': int})"
   ]
  },
  {
   "cell_type": "code",
   "execution_count": 8,
   "metadata": {},
   "outputs": [],
   "source": [
    "teams = df.home_team.unique()\n",
    "teams = pd.DataFrame(teams, columns=['team'])\n",
    "teams['i'] = teams.index\n",
    "\n",
    "df = pd.merge(df, teams, left_on='home_team', right_on='team', how='left')\n",
    "df = df.rename(columns = {'i': 'i_home'}).drop('team', 1)\n",
    "df = pd.merge(df, teams, left_on='away_team', right_on='team', how='left')\n",
    "df = df.rename(columns = {'i': 'i_away'}).drop('team', 1)\n",
    "\n",
    "observed_home_goals = df.home_score.values\n",
    "observed_away_goals = df.away_score.values\n",
    "\n",
    "home_team = df.i_home.values\n",
    "away_team = df.i_away.values\n",
    "\n",
    "num_teams = len(df.i_home.drop_duplicates())\n",
    "num_games = len(home_team)\n",
    "\n",
    "g = df.groupby('i_away')\n",
    "att_starting_points = np.log(g.away_score.mean())\n",
    "g = df.groupby('i_home')\n",
    "def_starting_points = -np.log(g.away_score.mean())"
   ]
  },
  {
   "cell_type": "code",
   "execution_count": 9,
   "metadata": {},
   "outputs": [
    {
     "name": "stderr",
     "output_type": "stream",
     "text": [
      "Sequential sampling (1 chains in 1 job)\n",
      "INFO:pymc3:Sequential sampling (1 chains in 1 job)\n",
      "CompoundStep\n",
      "INFO:pymc3:CompoundStep\n",
      ">Metropolis: [defs_star]\n",
      "INFO:pymc3:>Metropolis: [defs_star]\n",
      ">Metropolis: [atts_star]\n",
      "INFO:pymc3:>Metropolis: [atts_star]\n",
      ">Metropolis: [intercept]\n",
      "INFO:pymc3:>Metropolis: [intercept]\n",
      ">Metropolis: [home]\n",
      "INFO:pymc3:>Metropolis: [home]\n",
      ">Metropolis: [tau_def]\n",
      "INFO:pymc3:>Metropolis: [tau_def]\n",
      ">Metropolis: [tau_att]\n",
      "INFO:pymc3:>Metropolis: [tau_att]\n"
     ]
    },
    {
     "data": {
      "text/html": [
       "\n",
       "    <div>\n",
       "        <style>\n",
       "            /* Turns off some styling */\n",
       "            progress {\n",
       "                /* gets rid of default border in Firefox and Opera. */\n",
       "                border: none;\n",
       "                /* Needs to be in here for Safari polyfill so background images work as expected. */\n",
       "                background-size: auto;\n",
       "            }\n",
       "            .progress-bar-interrupted, .progress-bar-interrupted::-webkit-progress-bar {\n",
       "                background: #F44336;\n",
       "            }\n",
       "        </style>\n",
       "      <progress value='6000' class='' max='6000' style='width:300px; height:20px; vertical-align: middle;'></progress>\n",
       "      100.00% [6000/6000 00:04<00:00 Sampling chain 0, 0 divergences]\n",
       "    </div>\n",
       "    "
      ],
      "text/plain": [
       "<IPython.core.display.HTML object>"
      ]
     },
     "metadata": {},
     "output_type": "display_data"
    },
    {
     "name": "stderr",
     "output_type": "stream",
     "text": [
      "Sampling 1 chain for 1_000 tune and 5_000 draw iterations (1_000 + 5_000 draws total) took 5 seconds.\n",
      "INFO:pymc3:Sampling 1 chain for 1_000 tune and 5_000 draw iterations (1_000 + 5_000 draws total) took 5 seconds.\n",
      "/workspaces/load_to_goal/GitHub/bayesian_statistics/.venv/lib/python3.8/site-packages/arviz/data/base.py:169: UserWarning: More chains (5000) than draws (6). Passed array should have shape (chains, draws, *shape)\n",
      "  warnings.warn(\n",
      "Only one chain was sampled, this makes it impossible to run some convergence checks\n",
      "INFO:pymc3:Only one chain was sampled, this makes it impossible to run some convergence checks\n"
     ]
    }
   ],
   "source": [
    "with pm.Model() as model:\n",
    "    tau_att=pm.Gamma(\"tau_att\",0.1,0.1)\n",
    "    tau_def=pm.Gamma(\"tau_def\",0.1,0.1)\n",
    "    home=pm.Flat(\"home\")\n",
    "    intercept=pm.Flat(\"intercept\")\n",
    "    \n",
    "    atts_star=pm.Normal(\"atts_star\",mu=0,tau=tau_att,shape=num_teams)\n",
    "    defs_star=pm.Normal(\"defs_star\",mu=0,tau=tau_def,shape=num_teams)\n",
    "    atts=pm.Deterministic(\"atts\",atts_star-tt.mean(atts_star))\n",
    "    defs=pm.Deterministic(\"defs\",defs_star-tt.mean(defs_star))\n",
    "    home_theta=tt.exp(intercept+home+atts[home_team]-defs[away_team])\n",
    "    away_theta=tt.exp(intercept+atts[away_team]-defs[home_team])\n",
    "    home_points=pm.Poisson(\"home_points\",mu=home_theta,observed=observed_home_goals)\n",
    "    away_points=pm.Poisson(\"away_points\",mu=away_theta,observed=observed_away_goals)\n",
    "    \n",
    "    trace=pm.sample(5000,step=pm.Metropolis(),return_inferencedata=False,cores=1,chains=1)"
   ]
  },
  {
   "cell_type": "code",
   "execution_count": 10,
   "metadata": {},
   "outputs": [
    {
     "data": {
      "image/svg+xml": [
       "<?xml version=\"1.0\" encoding=\"UTF-8\" standalone=\"no\"?>\n",
       "<!DOCTYPE svg PUBLIC \"-//W3C//DTD SVG 1.1//EN\"\n",
       " \"http://www.w3.org/Graphics/SVG/1.1/DTD/svg11.dtd\">\n",
       "<!-- Generated by graphviz version 2.40.1 (20161225.0304)\n",
       " -->\n",
       "<!-- Title: %3 Pages: 1 -->\n",
       "<svg width=\"505pt\" height=\"455pt\"\n",
       " viewBox=\"0.00 0.00 504.60 454.84\" xmlns=\"http://www.w3.org/2000/svg\" xmlns:xlink=\"http://www.w3.org/1999/xlink\">\n",
       "<g id=\"graph0\" class=\"graph\" transform=\"scale(1 1) rotate(0) translate(4 450.8366)\">\n",
       "<title>%3</title>\n",
       "<polygon fill=\"#ffffff\" stroke=\"transparent\" points=\"-4,4 -4,-450.8366 500.598,-450.8366 500.598,4 -4,4\"/>\n",
       "<g id=\"clust1\" class=\"cluster\">\n",
       "<title>cluster6</title>\n",
       "<path fill=\"none\" stroke=\"#000000\" d=\"M20,-129.9533C20,-129.9533 261,-129.9533 261,-129.9533 267,-129.9533 273,-135.9533 273,-141.9533 273,-141.9533 273,-331.8833 273,-331.8833 273,-337.8833 267,-343.8833 261,-343.8833 261,-343.8833 20,-343.8833 20,-343.8833 14,-343.8833 8,-337.8833 8,-331.8833 8,-331.8833 8,-141.9533 8,-141.9533 8,-135.9533 14,-129.9533 20,-129.9533\"/>\n",
       "<text text-anchor=\"middle\" x=\"260\" y=\"-137.7533\" font-family=\"Times,serif\" font-size=\"14.00\" fill=\"#000000\">6</text>\n",
       "</g>\n",
       "<g id=\"clust2\" class=\"cluster\">\n",
       "<title>cluster30</title>\n",
       "<path fill=\"none\" stroke=\"#000000\" d=\"M103,-8C103,-8 413,-8 413,-8 419,-8 425,-14 425,-20 425,-20 425,-109.9533 425,-109.9533 425,-115.9533 419,-121.9533 413,-121.9533 413,-121.9533 103,-121.9533 103,-121.9533 97,-121.9533 91,-115.9533 91,-109.9533 91,-109.9533 91,-20 91,-20 91,-14 97,-8 103,-8\"/>\n",
       "<text text-anchor=\"middle\" x=\"407.5\" y=\"-15.8\" font-family=\"Times,serif\" font-size=\"14.00\" fill=\"#000000\">30</text>\n",
       "</g>\n",
       "<!-- tau_def -->\n",
       "<g id=\"node1\" class=\"node\">\n",
       "<title>tau_def</title>\n",
       "<ellipse fill=\"none\" stroke=\"#000000\" cx=\"75\" cy=\"-409.36\" rx=\"50.41\" ry=\"37.4533\"/>\n",
       "<text text-anchor=\"middle\" x=\"75\" y=\"-420.66\" font-family=\"Times,serif\" font-size=\"14.00\" fill=\"#000000\">tau_def</text>\n",
       "<text text-anchor=\"middle\" x=\"75\" y=\"-405.66\" font-family=\"Times,serif\" font-size=\"14.00\" fill=\"#000000\">~</text>\n",
       "<text text-anchor=\"middle\" x=\"75\" y=\"-390.66\" font-family=\"Times,serif\" font-size=\"14.00\" fill=\"#000000\">Gamma</text>\n",
       "</g>\n",
       "<!-- defs_star -->\n",
       "<g id=\"node7\" class=\"node\">\n",
       "<title>defs_star</title>\n",
       "<ellipse fill=\"none\" stroke=\"#000000\" cx=\"75\" cy=\"-298.4066\" rx=\"58.8803\" ry=\"37.4533\"/>\n",
       "<text text-anchor=\"middle\" x=\"75\" y=\"-309.7066\" font-family=\"Times,serif\" font-size=\"14.00\" fill=\"#000000\">defs_star</text>\n",
       "<text text-anchor=\"middle\" x=\"75\" y=\"-294.7066\" font-family=\"Times,serif\" font-size=\"14.00\" fill=\"#000000\">~</text>\n",
       "<text text-anchor=\"middle\" x=\"75\" y=\"-279.7066\" font-family=\"Times,serif\" font-size=\"14.00\" fill=\"#000000\">Normal</text>\n",
       "</g>\n",
       "<!-- tau_def&#45;&gt;defs_star -->\n",
       "<g id=\"edge2\" class=\"edge\">\n",
       "<title>tau_def&#45;&gt;defs_star</title>\n",
       "<path fill=\"none\" stroke=\"#000000\" d=\"M75,-371.7962C75,-363.5723 75,-354.7601 75,-346.1969\"/>\n",
       "<polygon fill=\"#000000\" stroke=\"#000000\" points=\"78.5001,-345.9317 75,-335.9317 71.5001,-345.9317 78.5001,-345.9317\"/>\n",
       "</g>\n",
       "<!-- home -->\n",
       "<g id=\"node2\" class=\"node\">\n",
       "<title>home</title>\n",
       "<ellipse fill=\"none\" stroke=\"#000000\" cx=\"457\" cy=\"-187.4533\" rx=\"39.6962\" ry=\"37.4533\"/>\n",
       "<text text-anchor=\"middle\" x=\"457\" y=\"-198.7533\" font-family=\"Times,serif\" font-size=\"14.00\" fill=\"#000000\">home</text>\n",
       "<text text-anchor=\"middle\" x=\"457\" y=\"-183.7533\" font-family=\"Times,serif\" font-size=\"14.00\" fill=\"#000000\">~</text>\n",
       "<text text-anchor=\"middle\" x=\"457\" y=\"-168.7533\" font-family=\"Times,serif\" font-size=\"14.00\" fill=\"#000000\">Flat</text>\n",
       "</g>\n",
       "<!-- home_points -->\n",
       "<g id=\"node9\" class=\"node\">\n",
       "<title>home_points</title>\n",
       "<ellipse fill=\"#d3d3d3\" stroke=\"#000000\" cx=\"341\" cy=\"-76.4767\" rx=\"75.8212\" ry=\"37.4533\"/>\n",
       "<text text-anchor=\"middle\" x=\"341\" y=\"-87.7767\" font-family=\"Times,serif\" font-size=\"14.00\" fill=\"#000000\">home_points</text>\n",
       "<text text-anchor=\"middle\" x=\"341\" y=\"-72.7767\" font-family=\"Times,serif\" font-size=\"14.00\" fill=\"#000000\">~</text>\n",
       "<text text-anchor=\"middle\" x=\"341\" y=\"-57.7767\" font-family=\"Times,serif\" font-size=\"14.00\" fill=\"#000000\">Poisson</text>\n",
       "</g>\n",
       "<!-- home&#45;&gt;home_points -->\n",
       "<g id=\"edge6\" class=\"edge\">\n",
       "<title>home&#45;&gt;home_points</title>\n",
       "<path fill=\"none\" stroke=\"#000000\" d=\"M433.4627,-156.8595C426.0077,-147.8466 417.4887,-138.1978 409,-129.9533 403.47,-124.5824 397.4239,-119.2155 391.291,-114.0668\"/>\n",
       "<polygon fill=\"#000000\" stroke=\"#000000\" points=\"393.4585,-111.3179 383.5085,-107.678 389.017,-116.7283 393.4585,-111.3179\"/>\n",
       "</g>\n",
       "<!-- intercept -->\n",
       "<g id=\"node3\" class=\"node\">\n",
       "<title>intercept</title>\n",
       "<ellipse fill=\"none\" stroke=\"#000000\" cx=\"341\" cy=\"-187.4533\" rx=\"58.8803\" ry=\"37.4533\"/>\n",
       "<text text-anchor=\"middle\" x=\"341\" y=\"-198.7533\" font-family=\"Times,serif\" font-size=\"14.00\" fill=\"#000000\">intercept</text>\n",
       "<text text-anchor=\"middle\" x=\"341\" y=\"-183.7533\" font-family=\"Times,serif\" font-size=\"14.00\" fill=\"#000000\">~</text>\n",
       "<text text-anchor=\"middle\" x=\"341\" y=\"-168.7533\" font-family=\"Times,serif\" font-size=\"14.00\" fill=\"#000000\">Flat</text>\n",
       "</g>\n",
       "<!-- intercept&#45;&gt;home_points -->\n",
       "<g id=\"edge8\" class=\"edge\">\n",
       "<title>intercept&#45;&gt;home_points</title>\n",
       "<path fill=\"none\" stroke=\"#000000\" d=\"M341,-149.8817C341,-141.656 341,-132.8419 341,-124.277\"/>\n",
       "<polygon fill=\"#000000\" stroke=\"#000000\" points=\"344.5001,-124.0096 341,-114.0096 337.5001,-124.0096 344.5001,-124.0096\"/>\n",
       "</g>\n",
       "<!-- away_points -->\n",
       "<g id=\"node10\" class=\"node\">\n",
       "<title>away_points</title>\n",
       "<ellipse fill=\"#d3d3d3\" stroke=\"#000000\" cx=\"173\" cy=\"-76.4767\" rx=\"74.4932\" ry=\"37.4533\"/>\n",
       "<text text-anchor=\"middle\" x=\"173\" y=\"-87.7767\" font-family=\"Times,serif\" font-size=\"14.00\" fill=\"#000000\">away_points</text>\n",
       "<text text-anchor=\"middle\" x=\"173\" y=\"-72.7767\" font-family=\"Times,serif\" font-size=\"14.00\" fill=\"#000000\">~</text>\n",
       "<text text-anchor=\"middle\" x=\"173\" y=\"-57.7767\" font-family=\"Times,serif\" font-size=\"14.00\" fill=\"#000000\">Poisson</text>\n",
       "</g>\n",
       "<!-- intercept&#45;&gt;away_points -->\n",
       "<g id=\"edge11\" class=\"edge\">\n",
       "<title>intercept&#45;&gt;away_points</title>\n",
       "<path fill=\"none\" stroke=\"#000000\" d=\"M309.9711,-155.4095C300.0431,-146.3468 288.6024,-137.0344 277,-129.9533 268.4747,-124.7502 265.0675,-126.1405 256,-121.9533 247.7839,-118.1593 239.2611,-113.8927 230.944,-109.5326\"/>\n",
       "<polygon fill=\"#000000\" stroke=\"#000000\" points=\"232.4957,-106.3936 222.0241,-104.7826 229.2055,-112.5722 232.4957,-106.3936\"/>\n",
       "</g>\n",
       "<!-- tau_att -->\n",
       "<g id=\"node4\" class=\"node\">\n",
       "<title>tau_att</title>\n",
       "<ellipse fill=\"none\" stroke=\"#000000\" cx=\"208\" cy=\"-409.36\" rx=\"50.41\" ry=\"37.4533\"/>\n",
       "<text text-anchor=\"middle\" x=\"208\" y=\"-420.66\" font-family=\"Times,serif\" font-size=\"14.00\" fill=\"#000000\">tau_att</text>\n",
       "<text text-anchor=\"middle\" x=\"208\" y=\"-405.66\" font-family=\"Times,serif\" font-size=\"14.00\" fill=\"#000000\">~</text>\n",
       "<text text-anchor=\"middle\" x=\"208\" y=\"-390.66\" font-family=\"Times,serif\" font-size=\"14.00\" fill=\"#000000\">Gamma</text>\n",
       "</g>\n",
       "<!-- atts_star -->\n",
       "<g id=\"node6\" class=\"node\">\n",
       "<title>atts_star</title>\n",
       "<ellipse fill=\"none\" stroke=\"#000000\" cx=\"208\" cy=\"-298.4066\" rx=\"56.6372\" ry=\"37.4533\"/>\n",
       "<text text-anchor=\"middle\" x=\"208\" y=\"-309.7066\" font-family=\"Times,serif\" font-size=\"14.00\" fill=\"#000000\">atts_star</text>\n",
       "<text text-anchor=\"middle\" x=\"208\" y=\"-294.7066\" font-family=\"Times,serif\" font-size=\"14.00\" fill=\"#000000\">~</text>\n",
       "<text text-anchor=\"middle\" x=\"208\" y=\"-279.7066\" font-family=\"Times,serif\" font-size=\"14.00\" fill=\"#000000\">Normal</text>\n",
       "</g>\n",
       "<!-- tau_att&#45;&gt;atts_star -->\n",
       "<g id=\"edge1\" class=\"edge\">\n",
       "<title>tau_att&#45;&gt;atts_star</title>\n",
       "<path fill=\"none\" stroke=\"#000000\" d=\"M208,-371.7962C208,-363.5723 208,-354.7601 208,-346.1969\"/>\n",
       "<polygon fill=\"#000000\" stroke=\"#000000\" points=\"211.5001,-345.9317 208,-335.9317 204.5001,-345.9317 211.5001,-345.9317\"/>\n",
       "</g>\n",
       "<!-- atts -->\n",
       "<g id=\"node5\" class=\"node\">\n",
       "<title>atts</title>\n",
       "<polygon fill=\"none\" stroke=\"#000000\" points=\"264.5,-213.9533 149.5,-213.9533 149.5,-160.9533 264.5,-160.9533 264.5,-213.9533\"/>\n",
       "<text text-anchor=\"middle\" x=\"207\" y=\"-198.7533\" font-family=\"Times,serif\" font-size=\"14.00\" fill=\"#000000\">atts</text>\n",
       "<text text-anchor=\"middle\" x=\"207\" y=\"-183.7533\" font-family=\"Times,serif\" font-size=\"14.00\" fill=\"#000000\">~</text>\n",
       "<text text-anchor=\"middle\" x=\"207\" y=\"-168.7533\" font-family=\"Times,serif\" font-size=\"14.00\" fill=\"#000000\">Deterministic</text>\n",
       "</g>\n",
       "<!-- atts&#45;&gt;home_points -->\n",
       "<g id=\"edge5\" class=\"edge\">\n",
       "<title>atts&#45;&gt;home_points</title>\n",
       "<path fill=\"none\" stroke=\"#000000\" d=\"M236.9542,-160.7958C248.1573,-150.9749 261.0603,-139.8386 273,-129.9533 279.1006,-124.9025 285.5732,-119.6633 292.0059,-114.5277\"/>\n",
       "<polygon fill=\"#000000\" stroke=\"#000000\" points=\"294.4461,-117.0593 300.1014,-108.1 290.0934,-111.5771 294.4461,-117.0593\"/>\n",
       "</g>\n",
       "<!-- atts&#45;&gt;away_points -->\n",
       "<g id=\"edge9\" class=\"edge\">\n",
       "<title>atts&#45;&gt;away_points</title>\n",
       "<path fill=\"none\" stroke=\"#000000\" d=\"M198.8562,-160.8716C195.412,-149.6299 191.295,-136.192 187.3698,-123.3799\"/>\n",
       "<polygon fill=\"#000000\" stroke=\"#000000\" points=\"190.6956,-122.2871 184.4198,-113.7511 184.0027,-124.3377 190.6956,-122.2871\"/>\n",
       "</g>\n",
       "<!-- atts_star&#45;&gt;atts -->\n",
       "<g id=\"edge3\" class=\"edge\">\n",
       "<title>atts_star&#45;&gt;atts</title>\n",
       "<path fill=\"none\" stroke=\"#000000\" d=\"M207.6614,-260.8429C207.5556,-249.0984 207.4389,-236.154 207.3334,-224.4489\"/>\n",
       "<polygon fill=\"#000000\" stroke=\"#000000\" points=\"210.8304,-224.0856 207.2403,-214.1176 203.8307,-224.1488 210.8304,-224.0856\"/>\n",
       "</g>\n",
       "<!-- defs -->\n",
       "<g id=\"node8\" class=\"node\">\n",
       "<title>defs</title>\n",
       "<polygon fill=\"none\" stroke=\"#000000\" points=\"131.5,-213.9533 16.5,-213.9533 16.5,-160.9533 131.5,-160.9533 131.5,-213.9533\"/>\n",
       "<text text-anchor=\"middle\" x=\"74\" y=\"-198.7533\" font-family=\"Times,serif\" font-size=\"14.00\" fill=\"#000000\">defs</text>\n",
       "<text text-anchor=\"middle\" x=\"74\" y=\"-183.7533\" font-family=\"Times,serif\" font-size=\"14.00\" fill=\"#000000\">~</text>\n",
       "<text text-anchor=\"middle\" x=\"74\" y=\"-168.7533\" font-family=\"Times,serif\" font-size=\"14.00\" fill=\"#000000\">Deterministic</text>\n",
       "</g>\n",
       "<!-- defs_star&#45;&gt;defs -->\n",
       "<g id=\"edge4\" class=\"edge\">\n",
       "<title>defs_star&#45;&gt;defs</title>\n",
       "<path fill=\"none\" stroke=\"#000000\" d=\"M74.6614,-260.8429C74.5556,-249.0984 74.4389,-236.154 74.3334,-224.4489\"/>\n",
       "<polygon fill=\"#000000\" stroke=\"#000000\" points=\"77.8304,-224.0856 74.2403,-214.1176 70.8307,-224.1488 77.8304,-224.0856\"/>\n",
       "</g>\n",
       "<!-- defs&#45;&gt;home_points -->\n",
       "<g id=\"edge7\" class=\"edge\">\n",
       "<title>defs&#45;&gt;home_points</title>\n",
       "<path fill=\"none\" stroke=\"#000000\" d=\"M97.0149,-160.7259C108.6358,-149.1391 123.7139,-136.7006 140,-129.9533 187.7429,-110.1737 206.3355,-136.238 256,-121.9533 265.6505,-119.1776 275.4465,-115.2049 284.7897,-110.7488\"/>\n",
       "<polygon fill=\"#000000\" stroke=\"#000000\" points=\"286.5847,-113.7644 293.9599,-106.1579 283.451,-107.5049 286.5847,-113.7644\"/>\n",
       "</g>\n",
       "<!-- defs&#45;&gt;away_points -->\n",
       "<g id=\"edge10\" class=\"edge\">\n",
       "<title>defs&#45;&gt;away_points</title>\n",
       "<path fill=\"none\" stroke=\"#000000\" d=\"M97.713,-160.8716C109.0071,-148.2112 122.7862,-132.7652 135.4542,-118.5646\"/>\n",
       "<polygon fill=\"#000000\" stroke=\"#000000\" points=\"138.3097,-120.6214 142.3548,-110.8292 133.0861,-115.9615 138.3097,-120.6214\"/>\n",
       "</g>\n",
       "</g>\n",
       "</svg>\n"
      ],
      "text/plain": [
       "<graphviz.dot.Digraph at 0x7f8767b15f40>"
      ]
     },
     "execution_count": 10,
     "metadata": {},
     "output_type": "execute_result"
    }
   ],
   "source": [
    "pm.model_to_graphviz(model)"
   ]
  },
  {
   "cell_type": "code",
   "execution_count": 11,
   "metadata": {},
   "outputs": [
    {
     "name": "stderr",
     "output_type": "stream",
     "text": [
      "/workspaces/load_to_goal/GitHub/bayesian_statistics/.venv/lib/python3.8/site-packages/arviz/data/base.py:169: UserWarning: More chains (5000) than draws (6). Passed array should have shape (chains, draws, *shape)\n",
      "  warnings.warn(\n",
      "/workspaces/load_to_goal/GitHub/bayesian_statistics/.venv/lib/python3.8/site-packages/arviz/data/base.py:169: UserWarning: More chains (5000) than draws (6). Passed array should have shape (chains, draws, *shape)\n",
      "  warnings.warn(\n"
     ]
    },
    {
     "data": {
      "image/png": "[encoded data removed]",
      "text/plain": [
       "<Figure size 576x576 with 2 Axes>"
      ]
     },
     "metadata": {},
     "output_type": "display_data"
    }
   ],
   "source": [
    "fig,axes=plt.subplots(2,figsize=(8,8))\n",
    "country_list=list(reversed([\"オーストラリア\",\"日本\",\"サウジアラビア\",\"イラク\",\"タイ\",\"UAE\"]))\n",
    "with model:\n",
    "    az.plot_forest(trace,var_names=[\"atts\"],kind='ridgeplot',ridgeplot_quantiles=[.25, .5, .75],ax=axes[0])\n",
    "    axes[0].set_title(\"攻撃力\",fontsize=16)\n",
    "    axes[0].set_yticklabels(country_list)\n",
    "    az.plot_forest(trace,var_names=[\"defs\"],kind=\"ridgeplot\",ridgeplot_quantiles=[.25, .5, .75],ax=axes[1])\n",
    "    axes[1].set_title(\"守備力\",fontsize=16)\n",
    "    axes[1].set_yticklabels(country_list)"
   ]
  },
  {
   "cell_type": "code",
   "execution_count": null,
   "metadata": {},
   "outputs": [],
   "source": []
  }
 ],
 "metadata": {
  "kernelspec": {
   "display_name": "Python 3",
   "language": "python",
   "name": "python3"
  },
  "language_info": {
   "codemirror_mode": {
    "name": "ipython",
    "version": 3
   },
   "file_extension": ".py",
   "mimetype": "text/x-python",
   "name": "python",
   "nbconvert_exporter": "python",
   "pygments_lexer": "ipython3",
   "version": "3.8.7"
  }
 },
 "nbformat": 4,
 "nbformat_minor": 4
}
