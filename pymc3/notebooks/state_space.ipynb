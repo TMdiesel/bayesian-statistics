{
 "cells": [
  {
   "cell_type": "markdown",
   "metadata": {},
   "source": [
    "## overview"
   ]
  },
  {
   "cell_type": "code",
   "execution_count": 1,
   "metadata": {},
   "outputs": [],
   "source": [
    "# default package\n",
    "import logging\n",
    "import sys \n",
    "import os\n",
    "import pathlib\n",
    "import IPython\n",
    "import random\n",
    "from urllib.request import urlretrieve"
   ]
  },
  {
   "cell_type": "code",
   "execution_count": 2,
   "metadata": {},
   "outputs": [
    {
     "name": "stderr",
     "output_type": "stream",
     "text": [
      "WARNING (theano.tensor.blas): Using NumPy C-API based implementation for BLAS functions.\n"
     ]
    }
   ],
   "source": [
    "# third party package\n",
    "import pandas as pd \n",
    "import numpy as np\n",
    "import matplotlib.pyplot as plt\n",
    "import seaborn\n",
    "from tqdm import tqdm\n",
    "import pymc3 as pm\n",
    "import seaborn as sns\n",
    "import theano.tensor as tt\n",
    "import scipy.stats as stats\n",
    "from scipy.stats.mstats import mquantiles\n",
    "import arviz as az"
   ]
  },
  {
   "cell_type": "code",
   "execution_count": 3,
   "metadata": {},
   "outputs": [],
   "source": [
    "# my package\n",
    "sys.path.append(os.path.join(pathlib.Path().resolve(),\"../\"))"
   ]
  },
  {
   "cell_type": "code",
   "execution_count": 4,
   "metadata": {},
   "outputs": [],
   "source": [
    "# reload settings\n",
    "%load_ext autoreload\n",
    "%autoreload 2"
   ]
  },
  {
   "cell_type": "code",
   "execution_count": 5,
   "metadata": {},
   "outputs": [],
   "source": [
    "# logger\n",
    "logger=logging.getLogger(__name__)\n",
    "logging.basicConfig(level=logging.ERROR)"
   ]
  },
  {
   "cell_type": "code",
   "execution_count": 6,
   "metadata": {},
   "outputs": [],
   "source": [
    "# graph setting\n",
    "sns.set()"
   ]
  },
  {
   "cell_type": "markdown",
   "metadata": {},
   "source": [
    "## ナイル川流量データ"
   ]
  },
  {
   "cell_type": "code",
   "execution_count": 7,
   "metadata": {},
   "outputs": [
    {
     "data": {
      "text/plain": [
       "('./data/nile.csv', <http.client.HTTPMessage at 0x7f37cbf33880>)"
      ]
     },
     "execution_count": 7,
     "metadata": {},
     "output_type": "execute_result"
    }
   ],
   "source": [
    "os.makedirs(\"./data\",exist_ok=True)\n",
    "urlretrieve(\"https://raw.githubusercontent.com/statsmodels/statsmodels/master/statsmodels/datasets/nile/nile.csv\",\n",
    "           \"./data/nile.csv\")"
   ]
  },
  {
   "cell_type": "code",
   "execution_count": 39,
   "metadata": {},
   "outputs": [],
   "source": [
    "df=pd.read_csv(\"./data/nile.csv\").iloc[:20]"
   ]
  },
  {
   "cell_type": "code",
   "execution_count": 40,
   "metadata": {},
   "outputs": [
    {
     "data": {
      "image/png": "[encoded data removed]",
      "text/plain": [
       "<Figure size 432x288 with 1 Axes>"
      ]
     },
     "metadata": {},
     "output_type": "display_data"
    }
   ],
   "source": [
    "df[\"volume\"].plot();"
   ]
  },
  {
   "cell_type": "markdown",
   "metadata": {},
   "source": [
    "## ローカルレベルモデル"
   ]
  },
  {
   "cell_type": "code",
   "execution_count": 41,
   "metadata": {},
   "outputs": [],
   "source": [
    "N=len(df)\n",
    "Y=df[\"volume\"].values\n",
    "with pm.Model() as model:\n",
    "    mu=[0]*N\n",
    "    y=[0]*N\n",
    "    \n",
    "    mu_std=pm.Uniform(\"mu_std\",0,10000)\n",
    "    y_std=pm.Uniform(\"y_std\",0,10000)\n",
    "    mu[0]=pm.Normal(\"mu_0\",mu=1150,sd=mu_std)\n",
    "    for i in range(1,N):\n",
    "        mu[i]=pm.Normal(f\"mu_{i}\",mu=mu[i-1],sd=mu_std)\n",
    "    for i in range(N):\n",
    "        y[i]=pm.Normal(f\"obs_{i}\",mu=mu[i],sd=y_std,observed=Y[i])"
   ]
  },
  {
   "cell_type": "code",
   "execution_count": 42,
   "metadata": {},
   "outputs": [
    {
     "name": "stderr",
     "output_type": "stream",
     "text": [
      "Multiprocess sampling (4 chains in 4 jobs)\n",
      "INFO:pymc3:Multiprocess sampling (4 chains in 4 jobs)\n",
      "CompoundStep\n",
      "INFO:pymc3:CompoundStep\n",
      ">Metropolis: [mu_19]\n",
      "INFO:pymc3:>Metropolis: [mu_19]\n",
      ">Metropolis: [mu_18]\n",
      "INFO:pymc3:>Metropolis: [mu_18]\n",
      ">Metropolis: [mu_17]\n",
      "INFO:pymc3:>Metropolis: [mu_17]\n",
      ">Metropolis: [mu_16]\n",
      "INFO:pymc3:>Metropolis: [mu_16]\n",
      ">Metropolis: [mu_15]\n",
      "INFO:pymc3:>Metropolis: [mu_15]\n",
      ">Metropolis: [mu_14]\n",
      "INFO:pymc3:>Metropolis: [mu_14]\n",
      ">Metropolis: [mu_13]\n",
      "INFO:pymc3:>Metropolis: [mu_13]\n",
      ">Metropolis: [mu_12]\n",
      "INFO:pymc3:>Metropolis: [mu_12]\n",
      ">Metropolis: [mu_11]\n",
      "INFO:pymc3:>Metropolis: [mu_11]\n",
      ">Metropolis: [mu_10]\n",
      "INFO:pymc3:>Metropolis: [mu_10]\n",
      ">Metropolis: [mu_9]\n",
      "INFO:pymc3:>Metropolis: [mu_9]\n",
      ">Metropolis: [mu_8]\n",
      "INFO:pymc3:>Metropolis: [mu_8]\n",
      ">Metropolis: [mu_7]\n",
      "INFO:pymc3:>Metropolis: [mu_7]\n",
      ">Metropolis: [mu_6]\n",
      "INFO:pymc3:>Metropolis: [mu_6]\n",
      ">Metropolis: [mu_5]\n",
      "INFO:pymc3:>Metropolis: [mu_5]\n",
      ">Metropolis: [mu_4]\n",
      "INFO:pymc3:>Metropolis: [mu_4]\n",
      ">Metropolis: [mu_3]\n",
      "INFO:pymc3:>Metropolis: [mu_3]\n",
      ">Metropolis: [mu_2]\n",
      "INFO:pymc3:>Metropolis: [mu_2]\n",
      ">Metropolis: [mu_1]\n",
      "INFO:pymc3:>Metropolis: [mu_1]\n",
      ">Metropolis: [mu_0]\n",
      "INFO:pymc3:>Metropolis: [mu_0]\n",
      ">Metropolis: [y_std]\n",
      "INFO:pymc3:>Metropolis: [y_std]\n",
      ">Metropolis: [mu_std]\n",
      "INFO:pymc3:>Metropolis: [mu_std]\n"
     ]
    },
    {
     "data": {
      "text/html": [
       "\n",
       "    <div>\n",
       "        <style>\n",
       "            /* Turns off some styling */\n",
       "            progress {\n",
       "                /* gets rid of default border in Firefox and Opera. */\n",
       "                border: none;\n",
       "                /* Needs to be in here for Safari polyfill so background images work as expected. */\n",
       "                background-size: auto;\n",
       "            }\n",
       "            .progress-bar-interrupted, .progress-bar-interrupted::-webkit-progress-bar {\n",
       "                background: #F44336;\n",
       "            }\n",
       "        </style>\n",
       "      <progress value='44000' class='' max='44000' style='width:300px; height:20px; vertical-align: middle;'></progress>\n",
       "      100.00% [44000/44000 01:00<00:00 Sampling 4 chains, 0 divergences]\n",
       "    </div>\n",
       "    "
      ],
      "text/plain": [
       "<IPython.core.display.HTML object>"
      ]
     },
     "metadata": {},
     "output_type": "display_data"
    },
    {
     "name": "stderr",
     "output_type": "stream",
     "text": [
      "Sampling 4 chains for 1_000 tune and 10_000 draw iterations (4_000 + 40_000 draws total) took 61 seconds.\n",
      "INFO:pymc3:Sampling 4 chains for 1_000 tune and 10_000 draw iterations (4_000 + 40_000 draws total) took 61 seconds.\n",
      "The rhat statistic is larger than 1.4 for some parameters. The sampler did not converge.\n",
      "ERROR:pymc3:The rhat statistic is larger than 1.4 for some parameters. The sampler did not converge.\n",
      "The estimated number of effective samples is smaller than 200 for some parameters.\n",
      "ERROR:pymc3:The estimated number of effective samples is smaller than 200 for some parameters.\n"
     ]
    }
   ],
   "source": [
    "with model:\n",
    "    step=pm.Metropolis()\n",
    "    trace=pm.sample(10000,step=step,return_inferencedata=False)"
   ]
  },
  {
   "cell_type": "code",
   "execution_count": 43,
   "metadata": {},
   "outputs": [],
   "source": [
    "mu_samples = np.array([trace['mu_'+str(i)] for i in range(N)])\n",
    "pred=mu_samples.mean(axis=1)"
   ]
  },
  {
   "cell_type": "code",
   "execution_count": 48,
   "metadata": {},
   "outputs": [
    {
     "data": {
      "text/plain": [
       "<matplotlib.collections.PolyCollection at 0x7f373d1fbeb0>"
      ]
     },
     "execution_count": 48,
     "metadata": {},
     "output_type": "execute_result"
    },
    {
     "data": {
      "image/png": "[encoded data removed]",
      "text/plain": [
       "<Figure size 432x288 with 1 Axes>"
      ]
     },
     "metadata": {},
     "output_type": "display_data"
    }
   ],
   "source": [
    "plt.plot(Y,marker=\"o\")\n",
    "plt.plot(pred)\n",
    "mu_lower, mu_upper = np.percentile(mu_samples, q=[2.5, 97.5], axis=1)\n",
    "plt.fill_between(list(range(N)), mu_lower, mu_upper, alpha=0.3)"
   ]
  },
  {
   "cell_type": "code",
   "execution_count": null,
   "metadata": {},
   "outputs": [],
   "source": []
  }
 ],
 "metadata": {
  "kernelspec": {
   "display_name": "Python 3",
   "language": "python",
   "name": "python3"
  },
  "language_info": {
   "codemirror_mode": {
    "name": "ipython",
    "version": 3
   },
   "file_extension": ".py",
   "mimetype": "text/x-python",
   "name": "python",
   "nbconvert_exporter": "python",
   "pygments_lexer": "ipython3",
   "version": "3.8.7"
  }
 },
 "nbformat": 4,
 "nbformat_minor": 4
}
